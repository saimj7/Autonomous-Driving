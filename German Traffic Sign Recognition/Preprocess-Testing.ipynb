{
 "cells": [
  {
   "cell_type": "code",
   "execution_count": 11,
   "metadata": {},
   "outputs": [
    {
     "name": "stdout",
     "output_type": "stream",
     "text": [
      "Start time is : Sat Mar 30 14:08:56 2019\n"
     ]
    }
   ],
   "source": [
    "import time\n",
    "start_time = time.time()\n",
    "print('Start time is : {}'.format(time.ctime()))"
   ]
  },
  {
   "cell_type": "code",
   "execution_count": 12,
   "metadata": {},
   "outputs": [],
   "source": [
    "#test data directory loading\n",
    "import pandas as pd\n",
    "import cv2\n",
    "import os\n",
    "import numpy as np\n",
    "ROOT_PATH = os.getcwd()\n",
    "csvpath=os.path.join(ROOT_PATH,\"GTSRB_Final_Test_GT\\GT-final_test.csv\")\n",
    "test = pd.read_csv(csvpath, sep=';')\n",
    "\n",
    "# Load test dataset\n",
    "x_test = []\n",
    "y_test = []\n",
    "i = 0\n",
    "\n",
    "\n",
    "for file_name, class_id in zip(list(test['Filename']), list(test['ClassId'])):\n",
    "    img_path = os.path.join(ROOT_PATH, \"GTSRB_Final_Test_Images\\GTSRB\\Final_Test\\Images\", file_name)\n",
    "    x_test.append(cv2.imread(img_path))\n",
    "    y_test.append(class_id)\n"
   ]
  },
  {
   "cell_type": "code",
   "execution_count": 13,
   "metadata": {},
   "outputs": [],
   "source": [
    "aa=np.array(x_test)\n",
    "bb=np.array(y_test)"
   ]
  },
  {
   "cell_type": "code",
   "execution_count": 14,
   "metadata": {},
   "outputs": [
    {
     "name": "stdout",
     "output_type": "stream",
     "text": [
      "<class 'list'>\n",
      "<class 'numpy.ndarray'>\n"
     ]
    }
   ],
   "source": [
    "print(type(y_test))\n",
    "x_test=np.array(x_test)\n",
    "y_test=np.array(y_test)\n",
    "print(type(y_test))"
   ]
  },
  {
   "cell_type": "code",
   "execution_count": 15,
   "metadata": {},
   "outputs": [
    {
     "name": "stdout",
     "output_type": "stream",
     "text": [
      "images shape: (12630,) \n",
      " labels shape: (12630,)\n",
      "first image shape: (54, 53, 3) \n",
      " first eleven label shape: [16  1 38 33 11 38 18 12 25 35]\n"
     ]
    }
   ],
   "source": [
    "#test images data visualization\n",
    "print('images shape: {} \\n labels shape: {}'.format(x_test.shape, y_test.shape))\n",
    "print('first image shape: {} \\n first eleven label shape: {}'.format(x_test[0].shape, y_test[0:10]))\n"
   ]
  },
  {
   "cell_type": "code",
   "execution_count": 16,
   "metadata": {},
   "outputs": [
    {
     "name": "stdout",
     "output_type": "stream",
     "text": [
      "<class 'numpy.ndarray'>\n",
      "total number of images and size (12630,)\n",
      "Size of second image in Traning set:  (45, 42, 3)\n"
     ]
    }
   ],
   "source": [
    "print(type(x_test))\n",
    "print('total number of images and size {}'.format(x_test.shape))\n",
    "inputsize=x_test[1].shape\n",
    "print('Size of second image in Traning set: ',inputsize)    "
   ]
  },
  {
   "cell_type": "code",
   "execution_count": 17,
   "metadata": {},
   "outputs": [],
   "source": [
    "test_labels=np.array(y_test)"
   ]
  },
  {
   "cell_type": "code",
   "execution_count": 18,
   "metadata": {},
   "outputs": [
    {
     "name": "stdout",
     "output_type": "stream",
     "text": [
      "<class 'numpy.ndarray'>\n",
      "(12630,)\n",
      "(12630,)\n"
     ]
    }
   ],
   "source": [
    "print(type(x_test))\n",
    "# type problem above\n",
    "print(x_test.shape)\n",
    "a=x_test.tolist()\n",
    "x_test=np.array(a)\n",
    "print(x_test.shape)"
   ]
  },
  {
   "cell_type": "code",
   "execution_count": 19,
   "metadata": {},
   "outputs": [],
   "source": [
    "from tempfile import TemporaryFile\n",
    "outfile = TemporaryFile()\n",
    "np.savez(\"rawtestfile\", aa, bb)\n"
   ]
  },
  {
   "cell_type": "code",
   "execution_count": 20,
   "metadata": {},
   "outputs": [
    {
     "name": "stdout",
     "output_type": "stream",
     "text": [
      "Total time to run 3.5627641677856445 seconds\n"
     ]
    }
   ],
   "source": [
    "print(\"Total time to run %s seconds\" % (time.time() - start_time))\n"
   ]
  }
 ],
 "metadata": {
  "kernelspec": {
   "display_name": "Python 3",
   "language": "python",
   "name": "python3"
  },
  "language_info": {
   "codemirror_mode": {
    "name": "ipython",
    "version": 3
   },
   "file_extension": ".py",
   "mimetype": "text/x-python",
   "name": "python",
   "nbconvert_exporter": "python",
   "pygments_lexer": "ipython3",
   "version": "3.7.1"
  }
 },
 "nbformat": 4,
 "nbformat_minor": 2
}
