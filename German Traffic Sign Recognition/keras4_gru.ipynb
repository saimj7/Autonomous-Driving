{
 "cells": [
  {
   "cell_type": "code",
   "execution_count": 1,
   "metadata": {
    "colab": {},
    "colab_type": "code",
    "id": "EHLwmtIK-3-b"
   },
   "outputs": [],
   "source": [
    "%reset -f"
   ]
  },
  {
   "cell_type": "code",
   "execution_count": null,
   "metadata": {
    "colab": {
     "base_uri": "https://localhost:8080/",
     "height": 122
    },
    "colab_type": "code",
    "id": "JywIYnMA-3-W",
    "outputId": "94e6b5bd-78b6-424d-d8e1-7c91d89cb847"
   },
   "outputs": [],
   "source": []
  },
  {
   "cell_type": "code",
   "execution_count": 2,
   "metadata": {
    "colab": {
     "base_uri": "https://localhost:8080/",
     "height": 34
    },
    "colab_type": "code",
    "id": "6zgpQ1MI-3-K",
    "outputId": "47b3594a-3432-4f0f-9416-f644f28b30d6"
   },
   "outputs": [
    {
     "name": "stdout",
     "output_type": "stream",
     "text": [
      "1.12.0\n"
     ]
    }
   ],
   "source": [
    "import tensorflow as tf\n",
    "import time\n",
    "\n",
    "print(tf.__version__)"
   ]
  },
  {
   "cell_type": "code",
   "execution_count": 3,
   "metadata": {
    "colab": {},
    "colab_type": "code",
    "id": "8fWHLKlY-3-H"
   },
   "outputs": [],
   "source": [
    "import os\n",
    "import numpy as np\n",
    "npzfile=np.load('rawtrainfile.npz')\n",
    "npzfile.files\n",
    "\n",
    "images=npzfile['arr_0']\n",
    "labels=npzfile['arr_1']\n",
    "\n",
    "\n"
   ]
  },
  {
   "cell_type": "code",
   "execution_count": 4,
   "metadata": {
    "colab": {
     "base_uri": "https://localhost:8080/",
     "height": 85
    },
    "colab_type": "code",
    "id": "GkfygTsD-3-C",
    "outputId": "fad14759-9f8c-45fb-a046-0e81eba52c16"
   },
   "outputs": [
    {
     "name": "stdout",
     "output_type": "stream",
     "text": [
      "images shape: (39209,) \n",
      " labels shape: (39209,)\n",
      "first image shape: (30, 29, 3) \n",
      " first eleven label shape: [0 0 0 0 0 0 0 0 0 0]\n"
     ]
    }
   ],
   "source": [
    "npimages=np.array(images)\n",
    "nplabels=np.array(labels)\n",
    "print('images shape: {} \\n labels shape: {}'.format(npimages.shape, nplabels.shape))\n",
    "print('first image shape: {} \\n first eleven label shape: {}'.format(npimages[0].shape, nplabels[0:10]))\n"
   ]
  },
  {
   "cell_type": "code",
   "execution_count": 5,
   "metadata": {
    "colab": {
     "base_uri": "https://localhost:8080/",
     "height": 68
    },
    "colab_type": "code",
    "id": "imi0nD6W-397",
    "outputId": "ffc508e8-c253-4eda-8fd1-7b6150bde8e4"
   },
   "outputs": [
    {
     "name": "stderr",
     "output_type": "stream",
     "text": [
      "C:\\Users\\asmna\\Documents\\Python\\envs\\tfgpu\\lib\\site-packages\\skimage\\transform\\_warps.py:105: UserWarning: The default mode, 'constant', will be changed to 'reflect' in skimage 0.15.\n",
      "  warn(\"The default mode, 'constant', will be changed to 'reflect' in \"\n",
      "C:\\Users\\asmna\\Documents\\Python\\envs\\tfgpu\\lib\\site-packages\\skimage\\transform\\_warps.py:110: UserWarning: Anti-aliasing will be enabled by default in skimage 0.15 to avoid aliasing artifacts when down-sampling images.\n",
      "  warn(\"Anti-aliasing will be enabled by default in skimage 0.15 to \"\n"
     ]
    },
    {
     "name": "stdout",
     "output_type": "stream",
     "text": [
      "<class 'list'>\n"
     ]
    }
   ],
   "source": [
    "from skimage.transform import resize\n",
    "\n",
    "images48 = [resize(image, (48, 48)) for image in npimages]\n",
    "print(type(images48))\n"
   ]
  },
  {
   "cell_type": "code",
   "execution_count": 6,
   "metadata": {
    "colab": {
     "base_uri": "https://localhost:8080/",
     "height": 51
    },
    "colab_type": "code",
    "id": "4th7LwUh-394",
    "outputId": "ff723a5d-6023-4656-d573-67009fc5dd8b"
   },
   "outputs": [
    {
     "name": "stdout",
     "output_type": "stream",
     "text": [
      "total number of images and size (39209, 48, 48, 3)\n",
      "(48, 48, 3)\n"
     ]
    }
   ],
   "source": [
    "images48 = np.array(images48)\n",
    "print('total number of images and size {}'.format(images48.shape))\n",
    "print(images48[0].shape)"
   ]
  },
  {
   "cell_type": "code",
   "execution_count": 7,
   "metadata": {
    "cellView": "both",
    "colab": {
     "base_uri": "https://localhost:8080/",
     "height": 935
    },
    "colab_type": "code",
    "id": "OPoYCM2y-39u",
    "outputId": "22a41e35-5aa8-4a9f-b484-aba8089b4ed5"
   },
   "outputs": [
    {
     "name": "stderr",
     "output_type": "stream",
     "text": [
      "Using TensorFlow backend.\n"
     ]
    },
    {
     "name": "stdout",
     "output_type": "stream",
     "text": [
      "_________________________________________________________________\n",
      "Layer (type)                 Output Shape              Param #   \n",
      "=================================================================\n",
      "conv2d_1 (Conv2D)            (None, 48, 48, 1)         4         \n",
      "_________________________________________________________________\n",
      "batch_normalization_1 (Batch (None, 48, 48, 1)         4         \n",
      "_________________________________________________________________\n",
      "conv2d_2 (Conv2D)            (None, 44, 44, 29)        754       \n",
      "_________________________________________________________________\n",
      "batch_normalization_2 (Batch (None, 44, 44, 29)        116       \n",
      "_________________________________________________________________\n",
      "max_pooling2d_1 (MaxPooling2 (None, 21, 21, 29)        0         \n",
      "_________________________________________________________________\n",
      "dropout_1 (Dropout)          (None, 21, 21, 29)        0         \n",
      "_________________________________________________________________\n",
      "conv2d_3 (Conv2D)            (None, 19, 19, 59)        15458     \n",
      "_________________________________________________________________\n",
      "batch_normalization_3 (Batch (None, 19, 19, 59)        236       \n",
      "_________________________________________________________________\n",
      "max_pooling2d_2 (MaxPooling2 (None, 9, 9, 59)          0         \n",
      "_________________________________________________________________\n",
      "dropout_2 (Dropout)          (None, 9, 9, 59)          0         \n",
      "_________________________________________________________________\n",
      "conv2d_4 (Conv2D)            (None, 7, 7, 74)          39368     \n",
      "_________________________________________________________________\n",
      "batch_normalization_4 (Batch (None, 7, 7, 74)          296       \n",
      "_________________________________________________________________\n",
      "max_pooling2d_3 (MaxPooling2 (None, 3, 3, 74)          0         \n",
      "_________________________________________________________________\n",
      "dropout_3 (Dropout)          (None, 3, 3, 74)          0         \n",
      "_________________________________________________________________\n",
      "flatten_1 (Flatten)          (None, 666)               0         \n",
      "_________________________________________________________________\n",
      "dense_1 (Dense)              (None, 300)               200100    \n",
      "_________________________________________________________________\n",
      "dropout_4 (Dropout)          (None, 300)               0         \n",
      "_________________________________________________________________\n",
      "dense_2 (Dense)              (None, 225)               67725     \n",
      "_________________________________________________________________\n",
      "dropout_5 (Dropout)          (None, 225)               0         \n",
      "_________________________________________________________________\n",
      "reshape_1 (Reshape)          (None, 15, 15)            0         \n",
      "_________________________________________________________________\n",
      "cu_dnngru_1 (CuDNNGRU)       (None, 86)                26574     \n",
      "_________________________________________________________________\n",
      "dense_3 (Dense)              (None, 43)                3741      \n",
      "=================================================================\n",
      "Total params: 354,376\n",
      "Trainable params: 354,050\n",
      "Non-trainable params: 326\n",
      "_________________________________________________________________\n"
     ]
    }
   ],
   "source": [
    "import keras\n",
    "from keras.layers import Input, Embedding, GRU, LSTM, MaxPooling2D, CuDNNGRU, CuDNNLSTM, Reshape\n",
    "from keras.layers import Dropout, Dense, Activation, Flatten,Conv2D,  BatchNormalization\n",
    "from keras.models import Sequential\n",
    "from keras.layers import LSTM  \n",
    "\n",
    "\n",
    "model = Sequential()\n",
    "model.add(Conv2D(1, kernel_size=(1, 1),padding='valid', strides=1, activation='relu', input_shape=(48,48,3)))\n",
    "model.add(BatchNormalization())\n",
    "model.add(Conv2D(29, 5, padding='valid', strides=1, activation='relu'))\n",
    "model.add(BatchNormalization())\n",
    "model.add(MaxPooling2D(3,  padding='valid',strides=2))\n",
    "model.add(Dropout(0.1))\n",
    "                 \n",
    "model.add(Conv2D(59, 3,  padding='valid',strides=1, activation='relu')) # increase kernel size to 5\n",
    "model.add(BatchNormalization())\n",
    "model.add(MaxPooling2D(3,strides=2,  padding='valid'))\n",
    "model.add(Dropout(0.1))\n",
    "\n",
    "model.add(Conv2D(74, 3, strides=1, activation='relu'))\n",
    "model.add(BatchNormalization())\n",
    "\n",
    "model.add(MaxPooling2D(3,strides=2,  padding='valid')) \n",
    "model.add(Dropout(0.1))\n",
    "model.add(Flatten())\n",
    "model.add(Dense(300))\n",
    "model.add(Dropout(0.5))\n",
    "model.add(Dense(225))\n",
    "model.add(Dropout(0.5))\n",
    "model.add(Reshape((15, 15)))\n",
    "#model.add(LSTM(86, dropout=0.1, recurrent_dropout=0.5)) # defaults inclide tanh activation\n",
    "model.add(CuDNNGRU(86))\n",
    "model.add(Dense(43, activation='softmax'))\n",
    "model.summary()"
   ]
  },
  {
   "cell_type": "code",
   "execution_count": 8,
   "metadata": {
    "colab": {
     "base_uri": "https://localhost:8080/",
     "height": 115
    },
    "colab_type": "code",
    "id": "wL3x3Ee4-390",
    "outputId": "efdaaf5e-5115-4b7d-d3c8-162c90f61eb3"
   },
   "outputs": [
    {
     "data": {
      "text/plain": [
       "<Figure size 640x480 with 5 Axes>"
      ]
     },
     "metadata": {},
     "output_type": "display_data"
    }
   ],
   "source": [
    "## Training plot\n",
    "\n",
    "import matplotlib.pyplot as plt\n",
    "\n",
    "traffic_signs = [250, 2120, 3400, 6500,9000]\n",
    "\n",
    "for i in range(len(traffic_signs)):\n",
    "    plt.subplot(1, 5, i+1)\n",
    "    plt.axis('off')\n",
    "    #plt.imshow(images27[traffic_signs[i]], cmap=\"gray\")\n",
    "    plt.imshow(images48[traffic_signs[i]])\n",
    "    plt.subplots_adjust(wspace=0.5)\n",
    "    \n",
    "# Show the plot\n",
    "plt.show()"
   ]
  },
  {
   "cell_type": "code",
   "execution_count": 9,
   "metadata": {
    "colab": {
     "base_uri": "https://localhost:8080/",
     "height": 102
    },
    "colab_type": "code",
    "id": "aeDPIWad-39p",
    "outputId": "5702739b-4cf2-4110-df7b-c84a21537c05"
   },
   "outputs": [
    {
     "name": "stdout",
     "output_type": "stream",
     "text": [
      "(39209, 48, 48, 3)\n",
      "First label is 0 and Total labels shape are (39209,)\n",
      "after one hot coding Labels shape is: (39209, 43)\n",
      "First Label after one hot coding: [1. 0. 0. 0. 0. 0. 0. 0. 0. 0. 0. 0. 0. 0. 0. 0. 0. 0. 0. 0. 0. 0. 0. 0.\n",
      " 0. 0. 0. 0. 0. 0. 0. 0. 0. 0. 0. 0. 0. 0. 0. 0. 0. 0. 0.]\n"
     ]
    }
   ],
   "source": [
    "\n",
    "X_train=images48.astype('float32')\n",
    "\n",
    "print(X_train.shape)\n",
    "\n",
    "#nplabels=np.array(labels)\n",
    "print(\"First label is %s and Total labels shape are %s\" %(nplabels[0], nplabels.shape))\n",
    "\n",
    "\n",
    "Y = keras.utils.to_categorical(nplabels,43)\n",
    "\n",
    "print(\"after one hot coding Labels shape is:\",Y.shape)\n",
    "print(\"First Label after one hot coding:\",Y[0])"
   ]
  },
  {
   "cell_type": "code",
   "execution_count": 10,
   "metadata": {
    "colab": {},
    "colab_type": "code",
    "id": "O86B0GC--39b"
   },
   "outputs": [],
   "source": [
    "import pandas as pd\n",
    "import os\n",
    "import numpy as np\n",
    "npzfilet=np.load('rawtestfile.npz')\n",
    "npzfilet.files\n",
    "\n",
    "X_test=npzfilet['arr_0']\n",
    "y_test=npzfilet['arr_1']\n",
    "\n",
    "\n",
    "\n",
    "test_images = np.array(X_test)\n",
    "test_labels = np.array(y_test)\n"
   ]
  },
  {
   "cell_type": "code",
   "execution_count": null,
   "metadata": {
    "colab": {},
    "colab_type": "code",
    "id": "NsjV3g8Nw8PB"
   },
   "outputs": [],
   "source": []
  },
  {
   "cell_type": "code",
   "execution_count": 11,
   "metadata": {
    "colab": {
     "base_uri": "https://localhost:8080/",
     "height": 34
    },
    "colab_type": "code",
    "id": "RzyKosoe-39X",
    "outputId": "441a0b2f-7796-4bf4-d25d-f58e82034816"
   },
   "outputs": [
    {
     "data": {
      "text/plain": [
       "(12630,)"
      ]
     },
     "execution_count": 11,
     "metadata": {},
     "output_type": "execute_result"
    }
   ],
   "source": [
    "test_images.shape"
   ]
  },
  {
   "cell_type": "code",
   "execution_count": 12,
   "metadata": {
    "colab": {
     "base_uri": "https://localhost:8080/",
     "height": 51
    },
    "colab_type": "code",
    "id": "RxU1K3Xw-39U",
    "outputId": "a7ae4818-c207-440d-d1dc-fc1be0ba62d5"
   },
   "outputs": [
    {
     "name": "stderr",
     "output_type": "stream",
     "text": [
      "C:\\Users\\asmna\\Documents\\Python\\envs\\tfgpu\\lib\\site-packages\\skimage\\transform\\_warps.py:105: UserWarning: The default mode, 'constant', will be changed to 'reflect' in skimage 0.15.\n",
      "  warn(\"The default mode, 'constant', will be changed to 'reflect' in \"\n",
      "C:\\Users\\asmna\\Documents\\Python\\envs\\tfgpu\\lib\\site-packages\\skimage\\transform\\_warps.py:110: UserWarning: Anti-aliasing will be enabled by default in skimage 0.15 to avoid aliasing artifacts when down-sampling images.\n",
      "  warn(\"Anti-aliasing will be enabled by default in skimage 0.15 to \"\n"
     ]
    }
   ],
   "source": [
    "from skimage import transform\n",
    "from skimage.color import rgb2gray\n",
    "\n",
    "test_imagesnp=np.array(test_images)\n",
    "    \n",
    "\n",
    "# Transform the images to 28 by 28 pixels\n",
    "test_images48 = [transform.resize(image, (48, 48)) for image in test_imagesnp]\n",
    "\n"
   ]
  },
  {
   "cell_type": "code",
   "execution_count": 13,
   "metadata": {
    "colab": {
     "base_uri": "https://localhost:8080/",
     "height": 115
    },
    "colab_type": "code",
    "id": "oIjSirmF-39Q",
    "outputId": "79780393-37a3-4660-f952-d7c8aaab3067"
   },
   "outputs": [
    {
     "data": {
      "image/png": "[encoded data removed]",
      "text/plain": [
       "<Figure size 432x288 with 5 Axes>"
      ]
     },
     "metadata": {
      "needs_background": "light"
     },
     "output_type": "display_data"
    }
   ],
   "source": [
    "import matplotlib.pyplot as plt\n",
    "\n",
    "testsigns = [150, 700, 1100, 1500,5000]\n",
    "\n",
    "for i in range(len(testsigns)):\n",
    "    plt.subplot(1, 5, i+1)\n",
    "    plt.axis('off')\n",
    "    #plt.imshow(images27[traffic_signs[i]], cmap=\"gray\")\n",
    "    plt.imshow(test_images48[testsigns[i]])\n",
    "    plt.subplots_adjust(wspace=0.5)\n",
    "    \n",
    "# Show the plot\n",
    "plt.show()"
   ]
  },
  {
   "cell_type": "code",
   "execution_count": 14,
   "metadata": {
    "colab": {
     "base_uri": "https://localhost:8080/",
     "height": 85
    },
    "colab_type": "code",
    "id": "eNgU8B1z-39L",
    "outputId": "8da10da0-fee7-4dba-eb29-0174befac723"
   },
   "outputs": [
    {
     "name": "stdout",
     "output_type": "stream",
     "text": [
      "images shape: (12630, 48, 48, 3) \n",
      " labels shape: (12630,)\n",
      "first image shape: (48, 48, 3) \n",
      " first eleven label shape: [16  1 38 33 11 38 18 12 25 35]\n"
     ]
    }
   ],
   "source": [
    "tnpimages=np.array(test_images48)\n",
    "tnplabels=np.array(test_labels)\n",
    "print('images shape: {} \\n labels shape: {}'.format(tnpimages.shape, tnplabels.shape))\n",
    "print('first image shape: {} \\n first eleven label shape: {}'.format(tnpimages[0].shape, tnplabels[0:10]))\n"
   ]
  },
  {
   "cell_type": "code",
   "execution_count": 15,
   "metadata": {
    "colab": {},
    "colab_type": "code",
    "id": "kukWpSou-39I"
   },
   "outputs": [],
   "source": [
    "#X_test=test_images27\n",
    "X_test=tnpimages.astype('float32')\n",
    "\n",
    "Y_test = keras.utils.to_categorical(tnplabels,43)\n"
   ]
  },
  {
   "cell_type": "code",
   "execution_count": 16,
   "metadata": {
    "colab": {
     "base_uri": "https://localhost:8080/",
     "height": 34
    },
    "colab_type": "code",
    "id": "png_dopEVvGE",
    "outputId": "59ab205e-1c9b-4c53-ddb1-6b6598d90bbe"
   },
   "outputs": [
    {
     "name": "stdout",
     "output_type": "stream",
     "text": [
      "Start time in seconds is : 1552482748.7153661\n"
     ]
    }
   ],
   "source": [
    "\n",
    "start_time = time.time()\n",
    "print('Start time in seconds is : {}'.format(start_time))"
   ]
  },
  {
   "cell_type": "markdown",
   "metadata": {
    "colab_type": "text",
    "id": "HNcUkihDVuWh"
   },
   "source": []
  },
  {
   "cell_type": "code",
   "execution_count": 17,
   "metadata": {
    "colab": {
     "base_uri": "https://localhost:8080/",
     "height": 5185
    },
    "colab_type": "code",
    "id": "b-DslZbH-38_",
    "outputId": "86df33f7-b7f7-4327-f899-dbded6d6fea9",
    "scrolled": false
   },
   "outputs": [
    {
     "name": "stdout",
     "output_type": "stream",
     "text": [
      "Train on 39209 samples, validate on 12630 samples\n",
      "Epoch 1/150\n",
      "39209/39209 [==============================] - 19s 490us/step - loss: 2.1926 - acc: 0.3837 - val_loss: 1.6687 - val_acc: 0.5453\n",
      "Epoch 2/150\n",
      "39209/39209 [==============================] - 14s 365us/step - loss: 0.6589 - acc: 0.8027 - val_loss: 0.4009 - val_acc: 0.8664\n",
      "Epoch 3/150\n",
      "39209/39209 [==============================] - 14s 361us/step - loss: 0.3249 - acc: 0.9066 - val_loss: 0.2280 - val_acc: 0.9356\n",
      "Epoch 4/150\n",
      "39209/39209 [==============================] - 14s 360us/step - loss: 0.1842 - acc: 0.9525 - val_loss: 0.1747 - val_acc: 0.9553\n",
      "Epoch 5/150\n",
      "39209/39209 [==============================] - 14s 361us/step - loss: 0.1217 - acc: 0.9677 - val_loss: 0.2549 - val_acc: 0.9314\n",
      "Epoch 6/150\n",
      "39209/39209 [==============================] - 14s 359us/step - loss: 0.0922 - acc: 0.9761 - val_loss: 0.1678 - val_acc: 0.9578\n",
      "Epoch 7/150\n",
      "39209/39209 [==============================] - 14s 356us/step - loss: 0.0685 - acc: 0.9821 - val_loss: 0.1516 - val_acc: 0.9584\n",
      "Epoch 8/150\n",
      "39209/39209 [==============================] - 14s 355us/step - loss: 0.0590 - acc: 0.9838 - val_loss: 0.1332 - val_acc: 0.9679\n",
      "Epoch 9/150\n",
      "39209/39209 [==============================] - 14s 358us/step - loss: 0.0491 - acc: 0.9867 - val_loss: 0.1255 - val_acc: 0.9686\n",
      "Epoch 10/150\n",
      "39209/39209 [==============================] - 14s 358us/step - loss: 0.0419 - acc: 0.9885 - val_loss: 0.1187 - val_acc: 0.9724\n",
      "Epoch 11/150\n",
      "39209/39209 [==============================] - 14s 355us/step - loss: 0.0361 - acc: 0.9903 - val_loss: 0.1372 - val_acc: 0.9701\n",
      "Epoch 12/150\n",
      "39209/39209 [==============================] - 14s 356us/step - loss: 0.0305 - acc: 0.9922 - val_loss: 0.1425 - val_acc: 0.9717\n",
      "Epoch 13/150\n",
      "39209/39209 [==============================] - 14s 359us/step - loss: 0.0271 - acc: 0.9927 - val_loss: 0.1240 - val_acc: 0.9745\n",
      "Epoch 14/150\n",
      "39209/39209 [==============================] - 14s 358us/step - loss: 0.0244 - acc: 0.9933 - val_loss: 0.1084 - val_acc: 0.9753\n",
      "Epoch 15/150\n",
      "39209/39209 [==============================] - 14s 362us/step - loss: 0.0203 - acc: 0.9948 - val_loss: 0.1235 - val_acc: 0.9702\n",
      "Epoch 16/150\n",
      "39209/39209 [==============================] - 14s 358us/step - loss: 0.0224 - acc: 0.9937 - val_loss: 0.1165 - val_acc: 0.9757\n",
      "Epoch 17/150\n",
      "39209/39209 [==============================] - 14s 360us/step - loss: 0.0208 - acc: 0.9941 - val_loss: 0.1045 - val_acc: 0.9766\n",
      "Epoch 18/150\n",
      "39209/39209 [==============================] - 14s 361us/step - loss: 0.0186 - acc: 0.9950 - val_loss: 0.1067 - val_acc: 0.9785\n",
      "Epoch 19/150\n",
      "39209/39209 [==============================] - 14s 361us/step - loss: 0.0168 - acc: 0.9951 - val_loss: 0.1260 - val_acc: 0.9744\n",
      "Epoch 20/150\n",
      "39209/39209 [==============================] - 14s 359us/step - loss: 0.0177 - acc: 0.9952 - val_loss: 0.1157 - val_acc: 0.9751\n",
      "Epoch 21/150\n",
      "39209/39209 [==============================] - 14s 358us/step - loss: 0.0142 - acc: 0.9961 - val_loss: 0.1200 - val_acc: 0.9775\n",
      "Epoch 22/150\n",
      "39209/39209 [==============================] - 14s 362us/step - loss: 0.0127 - acc: 0.9970 - val_loss: 0.1316 - val_acc: 0.9740\n",
      "Epoch 23/150\n",
      "39209/39209 [==============================] - 14s 364us/step - loss: 0.0165 - acc: 0.9949 - val_loss: 0.0995 - val_acc: 0.9785\n",
      "Epoch 24/150\n",
      "39209/39209 [==============================] - 14s 368us/step - loss: 0.0133 - acc: 0.9966 - val_loss: 0.1079 - val_acc: 0.9770\n",
      "Epoch 25/150\n",
      "39209/39209 [==============================] - 14s 360us/step - loss: 0.0128 - acc: 0.9961 - val_loss: 0.1994 - val_acc: 0.9587\n",
      "Epoch 26/150\n",
      "39209/39209 [==============================] - 14s 357us/step - loss: 0.0140 - acc: 0.9963 - val_loss: 0.1603 - val_acc: 0.9688\n",
      "Epoch 27/150\n",
      "39209/39209 [==============================] - 14s 358us/step - loss: 0.0107 - acc: 0.9970 - val_loss: 0.1021 - val_acc: 0.9775\n",
      "Epoch 28/150\n",
      "39209/39209 [==============================] - 14s 357us/step - loss: 0.0117 - acc: 0.9968 - val_loss: 0.1130 - val_acc: 0.9771\n",
      "Epoch 29/150\n",
      "39209/39209 [==============================] - 14s 358us/step - loss: 0.0088 - acc: 0.9977 - val_loss: 0.0964 - val_acc: 0.9804\n",
      "Epoch 30/150\n",
      "39209/39209 [==============================] - 14s 357us/step - loss: 0.0097 - acc: 0.9972 - val_loss: 0.1130 - val_acc: 0.9772\n",
      "Epoch 31/150\n",
      "39209/39209 [==============================] - 14s 357us/step - loss: 0.0095 - acc: 0.9972 - val_loss: 0.1016 - val_acc: 0.9777\n",
      "Epoch 32/150\n",
      "39209/39209 [==============================] - 15s 384us/step - loss: 0.0087 - acc: 0.9976 - val_loss: 0.1115 - val_acc: 0.9778\n",
      "Epoch 33/150\n",
      "39209/39209 [==============================] - 14s 365us/step - loss: 0.0079 - acc: 0.9979 - val_loss: 0.1006 - val_acc: 0.9797\n",
      "Epoch 34/150\n",
      "39209/39209 [==============================] - 14s 363us/step - loss: 0.0094 - acc: 0.9973 - val_loss: 0.1128 - val_acc: 0.9776\n",
      "Epoch 35/150\n",
      "39209/39209 [==============================] - 14s 361us/step - loss: 0.0071 - acc: 0.9982 - val_loss: 0.1080 - val_acc: 0.9774\n",
      "Epoch 36/150\n",
      "39209/39209 [==============================] - 14s 360us/step - loss: 0.0072 - acc: 0.9978 - val_loss: 0.0919 - val_acc: 0.9818\n",
      "Epoch 37/150\n",
      "39209/39209 [==============================] - 14s 365us/step - loss: 0.0074 - acc: 0.9980 - val_loss: 0.0943 - val_acc: 0.9797\n",
      "Epoch 38/150\n",
      "39209/39209 [==============================] - 14s 364us/step - loss: 0.0082 - acc: 0.9978 - val_loss: 0.1047 - val_acc: 0.9771\n",
      "Epoch 39/150\n",
      "39209/39209 [==============================] - 15s 372us/step - loss: 0.0057 - acc: 0.9986 - val_loss: 0.1101 - val_acc: 0.9798\n",
      "Epoch 40/150\n",
      "39209/39209 [==============================] - 15s 372us/step - loss: 0.0052 - acc: 0.9986 - val_loss: 0.1005 - val_acc: 0.9796\n",
      "Epoch 41/150\n",
      "39209/39209 [==============================] - 14s 357us/step - loss: 0.0080 - acc: 0.9976 - val_loss: 0.0965 - val_acc: 0.9803\n",
      "Epoch 42/150\n",
      "39209/39209 [==============================] - 14s 363us/step - loss: 0.0066 - acc: 0.9981 - val_loss: 0.0952 - val_acc: 0.9791\n",
      "Epoch 43/150\n",
      "39209/39209 [==============================] - 14s 361us/step - loss: 0.0068 - acc: 0.9980 - val_loss: 0.1064 - val_acc: 0.9779\n",
      "Epoch 44/150\n",
      "39209/39209 [==============================] - 14s 360us/step - loss: 0.0061 - acc: 0.9981 - val_loss: 0.1253 - val_acc: 0.9755\n",
      "Epoch 45/150\n",
      "39209/39209 [==============================] - 14s 358us/step - loss: 0.0061 - acc: 0.9983 - val_loss: 0.1144 - val_acc: 0.9781\n",
      "Epoch 46/150\n",
      "39209/39209 [==============================] - 14s 359us/step - loss: 0.0055 - acc: 0.9983 - val_loss: 0.1052 - val_acc: 0.9807\n",
      "Epoch 47/150\n",
      "39209/39209 [==============================] - 14s 360us/step - loss: 0.0060 - acc: 0.9980 - val_loss: 0.1136 - val_acc: 0.9778\n",
      "Epoch 48/150\n",
      "39209/39209 [==============================] - 14s 361us/step - loss: 0.0069 - acc: 0.9981 - val_loss: 0.0950 - val_acc: 0.9819\n",
      "Epoch 49/150\n",
      "39209/39209 [==============================] - 14s 362us/step - loss: 0.0047 - acc: 0.9986 - val_loss: 0.1088 - val_acc: 0.9774\n",
      "Epoch 50/150\n",
      "39209/39209 [==============================] - 14s 359us/step - loss: 0.0055 - acc: 0.9984 - val_loss: 0.1009 - val_acc: 0.9807\n",
      "Epoch 51/150\n",
      "39209/39209 [==============================] - 14s 361us/step - loss: 0.0066 - acc: 0.9983 - val_loss: 0.0889 - val_acc: 0.9819\n",
      "Epoch 52/150\n",
      "39209/39209 [==============================] - 14s 361us/step - loss: 0.0040 - acc: 0.9991 - val_loss: 0.0851 - val_acc: 0.9835\n",
      "Epoch 53/150\n",
      "39209/39209 [==============================] - 14s 369us/step - loss: 0.0047 - acc: 0.9989 - val_loss: 0.0897 - val_acc: 0.9807\n",
      "Epoch 54/150\n",
      "39209/39209 [==============================] - 14s 367us/step - loss: 0.0046 - acc: 0.9988 - val_loss: 0.1015 - val_acc: 0.9800\n",
      "Epoch 55/150\n",
      "39209/39209 [==============================] - 14s 361us/step - loss: 0.0052 - acc: 0.9982 - val_loss: 0.1036 - val_acc: 0.9803\n",
      "Epoch 56/150\n",
      "39209/39209 [==============================] - 14s 359us/step - loss: 0.0043 - acc: 0.9988 - val_loss: 0.1064 - val_acc: 0.9808\n",
      "Epoch 57/150\n",
      "39209/39209 [==============================] - 14s 359us/step - loss: 0.0053 - acc: 0.9985 - val_loss: 0.0981 - val_acc: 0.9797\n",
      "Epoch 58/150\n",
      "39209/39209 [==============================] - 15s 374us/step - loss: 0.0043 - acc: 0.9988 - val_loss: 0.1029 - val_acc: 0.9816\n"
     ]
    },
    {
     "name": "stdout",
     "output_type": "stream",
     "text": [
      "Epoch 59/150\n",
      "39209/39209 [==============================] - 14s 368us/step - loss: 0.0041 - acc: 0.9989 - val_loss: 0.1132 - val_acc: 0.9806\n",
      "Epoch 60/150\n",
      "39209/39209 [==============================] - 14s 368us/step - loss: 0.0038 - acc: 0.9989 - val_loss: 0.0969 - val_acc: 0.9812\n",
      "Epoch 61/150\n",
      "39209/39209 [==============================] - 14s 364us/step - loss: 0.0047 - acc: 0.9985 - val_loss: 0.1095 - val_acc: 0.9808\n",
      "Epoch 62/150\n",
      "39209/39209 [==============================] - 15s 388us/step - loss: 0.0054 - acc: 0.9984 - val_loss: 0.0937 - val_acc: 0.9823\n",
      "Epoch 63/150\n",
      "39209/39209 [==============================] - 14s 362us/step - loss: 0.0033 - acc: 0.9990 - val_loss: 0.0960 - val_acc: 0.9820\n",
      "Epoch 64/150\n",
      "39209/39209 [==============================] - 15s 373us/step - loss: 0.0033 - acc: 0.9991 - val_loss: 0.1000 - val_acc: 0.9823\n",
      "Epoch 65/150\n",
      "39209/39209 [==============================] - 14s 362us/step - loss: 0.0039 - acc: 0.9989 - val_loss: 0.0969 - val_acc: 0.9810\n",
      "Epoch 66/150\n",
      "39209/39209 [==============================] - 14s 360us/step - loss: 0.0044 - acc: 0.9987 - val_loss: 0.0856 - val_acc: 0.9827\n",
      "Epoch 67/150\n",
      "39209/39209 [==============================] - 14s 361us/step - loss: 0.0054 - acc: 0.9984 - val_loss: 0.1075 - val_acc: 0.9808\n",
      "Epoch 68/150\n",
      "39209/39209 [==============================] - 14s 363us/step - loss: 0.0036 - acc: 0.9990 - val_loss: 0.0943 - val_acc: 0.9821\n",
      "Epoch 69/150\n",
      "39209/39209 [==============================] - 14s 360us/step - loss: 0.0044 - acc: 0.9988 - val_loss: 0.0839 - val_acc: 0.9843\n",
      "Epoch 70/150\n",
      "39209/39209 [==============================] - 14s 366us/step - loss: 0.0045 - acc: 0.9986 - val_loss: 0.1021 - val_acc: 0.9802\n",
      "Epoch 71/150\n",
      "39209/39209 [==============================] - 15s 375us/step - loss: 0.0032 - acc: 0.9991 - val_loss: 0.0801 - val_acc: 0.9850\n",
      "Epoch 72/150\n",
      "39209/39209 [==============================] - 15s 380us/step - loss: 0.0029 - acc: 0.9991 - val_loss: 0.0894 - val_acc: 0.9829\n",
      "Epoch 73/150\n",
      "39209/39209 [==============================] - 14s 358us/step - loss: 0.0027 - acc: 0.9992 - val_loss: 0.0895 - val_acc: 0.9824\n",
      "Epoch 74/150\n",
      "39209/39209 [==============================] - 15s 374us/step - loss: 0.0037 - acc: 0.9992 - val_loss: 0.0951 - val_acc: 0.9819\n",
      "Epoch 75/150\n",
      "39209/39209 [==============================] - 15s 372us/step - loss: 0.0046 - acc: 0.9988 - val_loss: 0.1054 - val_acc: 0.9811\n",
      "Epoch 76/150\n",
      "39209/39209 [==============================] - 14s 364us/step - loss: 0.0035 - acc: 0.9990 - val_loss: 0.0886 - val_acc: 0.9831\n",
      "Epoch 77/150\n",
      "39209/39209 [==============================] - 14s 365us/step - loss: 0.0022 - acc: 0.9993 - val_loss: 0.1150 - val_acc: 0.9800\n",
      "Epoch 78/150\n",
      "39209/39209 [==============================] - 15s 376us/step - loss: 0.0026 - acc: 0.9992 - val_loss: 0.0985 - val_acc: 0.9820\n",
      "Epoch 79/150\n",
      "39209/39209 [==============================] - 14s 361us/step - loss: 0.0024 - acc: 0.9992 - val_loss: 0.0932 - val_acc: 0.9818\n",
      "Epoch 80/150\n",
      "39209/39209 [==============================] - 15s 372us/step - loss: 0.0029 - acc: 0.9993 - val_loss: 0.1093 - val_acc: 0.9799\n",
      "Epoch 81/150\n",
      "39209/39209 [==============================] - 14s 363us/step - loss: 0.0022 - acc: 0.9993 - val_loss: 0.0871 - val_acc: 0.9832\n",
      "Epoch 82/150\n",
      "39209/39209 [==============================] - 15s 376us/step - loss: 0.0023 - acc: 0.9992 - val_loss: 0.0945 - val_acc: 0.9819\n",
      "Epoch 83/150\n",
      "39209/39209 [==============================] - 14s 362us/step - loss: 0.0025 - acc: 0.9992 - val_loss: 0.0929 - val_acc: 0.9819\n",
      "Epoch 84/150\n",
      "39209/39209 [==============================] - 14s 366us/step - loss: 0.0039 - acc: 0.9987 - val_loss: 0.1218 - val_acc: 0.9751\n",
      "Epoch 85/150\n",
      "39209/39209 [==============================] - 15s 374us/step - loss: 0.0042 - acc: 0.9986 - val_loss: 0.0920 - val_acc: 0.9820\n",
      "Epoch 86/150\n",
      "39209/39209 [==============================] - 14s 362us/step - loss: 0.0033 - acc: 0.9989 - val_loss: 0.1056 - val_acc: 0.9808\n",
      "Epoch 87/150\n",
      "39209/39209 [==============================] - 14s 363us/step - loss: 0.0023 - acc: 0.9994 - val_loss: 0.1178 - val_acc: 0.9785\n",
      "Epoch 88/150\n",
      "39209/39209 [==============================] - 15s 391us/step - loss: 0.0040 - acc: 0.9987 - val_loss: 0.1025 - val_acc: 0.9810\n",
      "Epoch 89/150\n",
      "39209/39209 [==============================] - 14s 358us/step - loss: 0.0027 - acc: 0.9993 - val_loss: 0.0887 - val_acc: 0.9850\n",
      "Epoch 90/150\n",
      "39209/39209 [==============================] - 14s 359us/step - loss: 0.0026 - acc: 0.9993 - val_loss: 0.0982 - val_acc: 0.9810\n",
      "Epoch 91/150\n",
      "39209/39209 [==============================] - 14s 360us/step - loss: 0.0035 - acc: 0.9992 - val_loss: 0.0943 - val_acc: 0.9834\n",
      "Epoch 92/150\n",
      "39209/39209 [==============================] - 14s 359us/step - loss: 0.0033 - acc: 0.9989 - val_loss: 0.0901 - val_acc: 0.9834\n",
      "Epoch 93/150\n",
      "39209/39209 [==============================] - 15s 385us/step - loss: 0.0041 - acc: 0.9990 - val_loss: 0.0912 - val_acc: 0.9826\n",
      "Epoch 94/150\n",
      "39209/39209 [==============================] - 15s 374us/step - loss: 0.0032 - acc: 0.9991 - val_loss: 0.1134 - val_acc: 0.9791\n",
      "Epoch 95/150\n",
      "39209/39209 [==============================] - 15s 388us/step - loss: 0.0042 - acc: 0.9988 - val_loss: 0.1032 - val_acc: 0.9804\n",
      "Epoch 96/150\n",
      "39209/39209 [==============================] - 14s 366us/step - loss: 0.0027 - acc: 0.9991 - val_loss: 0.1045 - val_acc: 0.9791\n",
      "Epoch 97/150\n",
      "39209/39209 [==============================] - 15s 370us/step - loss: 0.0029 - acc: 0.9993 - val_loss: 0.0936 - val_acc: 0.9828\n",
      "Epoch 98/150\n",
      "39209/39209 [==============================] - 14s 369us/step - loss: 0.0021 - acc: 0.9994 - val_loss: 0.0780 - val_acc: 0.9854\n",
      "Epoch 99/150\n",
      "39209/39209 [==============================] - 14s 368us/step - loss: 0.0032 - acc: 0.9991 - val_loss: 0.0935 - val_acc: 0.9816\n",
      "Epoch 100/150\n",
      "39209/39209 [==============================] - 14s 364us/step - loss: 0.0020 - acc: 0.9994 - val_loss: 0.1084 - val_acc: 0.9801\n",
      "Epoch 101/150\n",
      "39209/39209 [==============================] - 14s 365us/step - loss: 0.0024 - acc: 0.9993 - val_loss: 0.0970 - val_acc: 0.9821\n",
      "Epoch 102/150\n",
      "39209/39209 [==============================] - 14s 360us/step - loss: 0.0024 - acc: 0.9994 - val_loss: 0.0995 - val_acc: 0.9818\n",
      "Epoch 103/150\n",
      "39209/39209 [==============================] - 15s 384us/step - loss: 0.0022 - acc: 0.9994 - val_loss: 0.0979 - val_acc: 0.9827\n",
      "Epoch 104/150\n",
      "39209/39209 [==============================] - 14s 361us/step - loss: 0.0023 - acc: 0.9993 - val_loss: 0.0994 - val_acc: 0.9811\n",
      "Epoch 105/150\n",
      "39209/39209 [==============================] - 14s 361us/step - loss: 0.0026 - acc: 0.9991 - val_loss: 0.0970 - val_acc: 0.9821\n",
      "Epoch 106/150\n",
      "39209/39209 [==============================] - 14s 360us/step - loss: 0.0032 - acc: 0.9991 - val_loss: 0.1102 - val_acc: 0.9803\n",
      "Epoch 107/150\n",
      "39209/39209 [==============================] - 14s 364us/step - loss: 0.0030 - acc: 0.9991 - val_loss: 0.0969 - val_acc: 0.9816\n",
      "Epoch 108/150\n",
      "39209/39209 [==============================] - 14s 359us/step - loss: 0.0028 - acc: 0.9993 - val_loss: 0.0931 - val_acc: 0.9816\n",
      "Epoch 109/150\n",
      "39209/39209 [==============================] - 14s 361us/step - loss: 0.0025 - acc: 0.9993 - val_loss: 0.0997 - val_acc: 0.9813\n",
      "Epoch 110/150\n",
      "39209/39209 [==============================] - 14s 356us/step - loss: 0.0021 - acc: 0.9995 - val_loss: 0.0877 - val_acc: 0.9842\n",
      "Epoch 111/150\n",
      "39209/39209 [==============================] - 14s 366us/step - loss: 0.0037 - acc: 0.9988 - val_loss: 0.0973 - val_acc: 0.9823\n",
      "Epoch 112/150\n",
      "39209/39209 [==============================] - 14s 361us/step - loss: 0.0019 - acc: 0.9994 - val_loss: 0.0911 - val_acc: 0.9830\n",
      "Epoch 113/150\n",
      "39209/39209 [==============================] - 14s 361us/step - loss: 0.0018 - acc: 0.9995 - val_loss: 0.0888 - val_acc: 0.9832\n",
      "Epoch 114/150\n",
      "39209/39209 [==============================] - 14s 362us/step - loss: 0.0018 - acc: 0.9995 - val_loss: 0.0916 - val_acc: 0.9826\n",
      "Epoch 115/150\n",
      "39209/39209 [==============================] - 14s 366us/step - loss: 0.0024 - acc: 0.9992 - val_loss: 0.0770 - val_acc: 0.9845\n",
      "Epoch 116/150\n",
      "39209/39209 [==============================] - 14s 367us/step - loss: 0.0024 - acc: 0.9994 - val_loss: 0.0780 - val_acc: 0.9860\n"
     ]
    },
    {
     "name": "stdout",
     "output_type": "stream",
     "text": [
      "Epoch 117/150\n",
      "39209/39209 [==============================] - 14s 366us/step - loss: 0.0022 - acc: 0.9994 - val_loss: 0.0863 - val_acc: 0.9827\n",
      "Epoch 118/150\n",
      "39209/39209 [==============================] - 14s 362us/step - loss: 0.0025 - acc: 0.9993 - val_loss: 0.0810 - val_acc: 0.9840\n",
      "Epoch 119/150\n",
      "39209/39209 [==============================] - 16s 401us/step - loss: 0.0015 - acc: 0.9995 - val_loss: 0.0903 - val_acc: 0.9826\n",
      "Epoch 120/150\n",
      "39209/39209 [==============================] - 15s 372us/step - loss: 0.0016 - acc: 0.9995 - val_loss: 0.0878 - val_acc: 0.9846\n",
      "Epoch 121/150\n",
      "39209/39209 [==============================] - 14s 369us/step - loss: 0.0025 - acc: 0.9992 - val_loss: 0.0963 - val_acc: 0.9808\n",
      "Epoch 122/150\n",
      "39209/39209 [==============================] - 14s 364us/step - loss: 0.0020 - acc: 0.9993 - val_loss: 0.0847 - val_acc: 0.9839\n",
      "Epoch 123/150\n",
      "39209/39209 [==============================] - 14s 363us/step - loss: 0.0021 - acc: 0.9993 - val_loss: 0.0859 - val_acc: 0.9846\n",
      "Epoch 124/150\n",
      "39209/39209 [==============================] - 14s 361us/step - loss: 0.0024 - acc: 0.9994 - val_loss: 0.0985 - val_acc: 0.9810\n",
      "Epoch 125/150\n",
      "39209/39209 [==============================] - 14s 362us/step - loss: 0.0021 - acc: 0.9993 - val_loss: 0.0974 - val_acc: 0.9820\n",
      "Epoch 126/150\n",
      "39209/39209 [==============================] - 14s 361us/step - loss: 0.0023 - acc: 0.9993 - val_loss: 0.0879 - val_acc: 0.9831\n",
      "Epoch 127/150\n",
      "39209/39209 [==============================] - 14s 358us/step - loss: 0.0021 - acc: 0.9993 - val_loss: 0.0858 - val_acc: 0.9849\n",
      "Epoch 128/150\n",
      "39209/39209 [==============================] - 14s 362us/step - loss: 0.0016 - acc: 0.9996 - val_loss: 0.1045 - val_acc: 0.9804\n",
      "Epoch 129/150\n",
      "39209/39209 [==============================] - 14s 360us/step - loss: 0.0022 - acc: 0.9994 - val_loss: 0.0800 - val_acc: 0.9857\n",
      "Epoch 130/150\n",
      "39209/39209 [==============================] - 14s 360us/step - loss: 0.0027 - acc: 0.9993 - val_loss: 0.0808 - val_acc: 0.9854\n",
      "Epoch 131/150\n",
      "39209/39209 [==============================] - 14s 360us/step - loss: 0.0022 - acc: 0.9995 - val_loss: 0.0744 - val_acc: 0.9855\n",
      "Epoch 132/150\n",
      "39209/39209 [==============================] - 14s 364us/step - loss: 0.0015 - acc: 0.9995 - val_loss: 0.0710 - val_acc: 0.9864\n",
      "Epoch 133/150\n",
      "39209/39209 [==============================] - 14s 363us/step - loss: 0.0013 - acc: 0.9996 - val_loss: 0.0856 - val_acc: 0.9850\n",
      "Epoch 134/150\n",
      "39209/39209 [==============================] - 15s 372us/step - loss: 0.0018 - acc: 0.9995 - val_loss: 0.0995 - val_acc: 0.9823\n",
      "Epoch 135/150\n",
      "39209/39209 [==============================] - 14s 364us/step - loss: 0.0021 - acc: 0.9994 - val_loss: 0.0739 - val_acc: 0.9856\n",
      "Epoch 136/150\n",
      "39209/39209 [==============================] - 14s 367us/step - loss: 0.0021 - acc: 0.9993 - val_loss: 0.0779 - val_acc: 0.9857\n",
      "Epoch 137/150\n",
      "39209/39209 [==============================] - 14s 360us/step - loss: 0.0014 - acc: 0.9996 - val_loss: 0.0842 - val_acc: 0.9855\n",
      "Epoch 138/150\n",
      "39209/39209 [==============================] - 14s 362us/step - loss: 0.0018 - acc: 0.9995 - val_loss: 0.0888 - val_acc: 0.9850\n",
      "Epoch 139/150\n",
      "39209/39209 [==============================] - 14s 362us/step - loss: 0.0021 - acc: 0.9994 - val_loss: 0.0900 - val_acc: 0.9830\n",
      "Epoch 140/150\n",
      "39209/39209 [==============================] - 20s 507us/step - loss: 0.0022 - acc: 0.9994 - val_loss: 0.1044 - val_acc: 0.9846\n",
      "Epoch 141/150\n",
      "39209/39209 [==============================] - 20s 510us/step - loss: 0.0015 - acc: 0.9995 - val_loss: 0.0819 - val_acc: 0.9857\n",
      "Epoch 142/150\n",
      "39209/39209 [==============================] - 20s 500us/step - loss: 0.0015 - acc: 0.9994 - val_loss: 0.0963 - val_acc: 0.9823\n",
      "Epoch 143/150\n",
      "39209/39209 [==============================] - 20s 520us/step - loss: 0.0016 - acc: 0.9994 - val_loss: 0.1014 - val_acc: 0.9818\n",
      "Epoch 144/150\n",
      "39209/39209 [==============================] - 21s 532us/step - loss: 0.0019 - acc: 0.9995 - val_loss: 0.0955 - val_acc: 0.9836\n",
      "Epoch 145/150\n",
      "39209/39209 [==============================] - 21s 527us/step - loss: 0.0014 - acc: 0.9996 - val_loss: 0.0874 - val_acc: 0.9851\n",
      "Epoch 146/150\n",
      "39209/39209 [==============================] - 20s 519us/step - loss: 7.0215e-04 - acc: 0.9998 - val_loss: 0.0897 - val_acc: 0.9833\n",
      "Epoch 147/150\n",
      "39209/39209 [==============================] - 20s 514us/step - loss: 7.2277e-04 - acc: 0.9998 - val_loss: 0.1032 - val_acc: 0.9831\n",
      "Epoch 148/150\n",
      "39209/39209 [==============================] - 20s 517us/step - loss: 0.0022 - acc: 0.9993 - val_loss: 0.1166 - val_acc: 0.9803\n",
      "Epoch 149/150\n",
      "39209/39209 [==============================] - 20s 518us/step - loss: 0.0016 - acc: 0.9996 - val_loss: 0.0992 - val_acc: 0.9820\n",
      "Epoch 150/150\n",
      "39209/39209 [==============================] - 20s 522us/step - loss: 0.0015 - acc: 0.9995 - val_loss: 0.1009 - val_acc: 0.9823\n"
     ]
    }
   ],
   "source": [
    "\n",
    "\n",
    "model.compile(loss='categorical_crossentropy', optimizer='adadelta', metrics=['accuracy']) \n",
    "\n",
    "epoch=150\n",
    "history=model.fit(X_train, Y, validation_data=(X_test, Y_test),epochs=epoch, batch_size=128, shuffle=True, verbose=1)\n"
   ]
  },
  {
   "cell_type": "code",
   "execution_count": 18,
   "metadata": {
    "colab": {
     "base_uri": "https://localhost:8080/",
     "height": 34
    },
    "colab_type": "code",
    "id": "Vf6DjZr8VMTo",
    "outputId": "1b3f995e-79d5-4c33-b0b2-08d0eb641d8f"
   },
   "outputs": [
    {
     "name": "stdout",
     "output_type": "stream",
     "text": [
      "Total time to run 2215.344093799591 seconds\n"
     ]
    }
   ],
   "source": [
    "print(\"Total time to run %s seconds\" % (time.time() - start_time))\n"
   ]
  },
  {
   "cell_type": "code",
   "execution_count": 19,
   "metadata": {
    "colab": {
     "base_uri": "https://localhost:8080/",
     "height": 51
    },
    "colab_type": "code",
    "id": "EboRXxRJYMgN",
    "outputId": "e3d17a9e-b1af-4a9c-e1fb-84fd480cd91c"
   },
   "outputs": [
    {
     "name": "stdout",
     "output_type": "stream",
     "text": [
      "final learning rate 1.0\n",
      "test accuracy average for 10 epochs is : 0.9829532858122935\n"
     ]
    }
   ],
   "source": [
    "\n",
    "print('final learning rate',keras.backend.eval(model.optimizer.lr))\n",
    "\n",
    "v=history.history['val_acc']\n",
    "test_accuracy=v[-10 :]\n",
    "print('test accuracy average for 10 epochs is :', sum(test_accuracy) / len(test_accuracy))\n"
   ]
  },
  {
   "cell_type": "code",
   "execution_count": null,
   "metadata": {
    "colab": {},
    "colab_type": "code",
    "id": "XktfS3Aq4wmz"
   },
   "outputs": [],
   "source": []
  },
  {
   "cell_type": "code",
   "execution_count": 20,
   "metadata": {
    "colab": {
     "base_uri": "https://localhost:8080/",
     "height": 735
    },
    "colab_type": "code",
    "id": "7A6JU8NV-386",
    "outputId": "0f38d54b-4863-4440-fcb6-cb8e356493b8"
   },
   "outputs": [
    {
     "data": {
      "image/png": "[encoded data removed]",
      "text/plain": [
       "<Figure size 432x288 with 1 Axes>"
      ]
     },
     "metadata": {
      "needs_background": "light"
     },
     "output_type": "display_data"
    },
    {
     "data": {
      "image/png": "[encoded data removed]",
      "text/plain": [
       "<Figure size 432x288 with 1 Axes>"
      ]
     },
     "metadata": {
      "needs_background": "light"
     },
     "output_type": "display_data"
    }
   ],
   "source": [
    "# Plot training & validation accuracy values\n",
    "plt.plot(history.history['acc'])\n",
    "plt.plot(history.history['val_acc'])\n",
    "plt.title('Model accuracy')\n",
    "plt.ylabel('Accuracy')\n",
    "plt.xlabel('Epochs')\n",
    "plt.legend(['Train', 'Test'], loc='upper left')\n",
    "plt.show()\n",
    "\n",
    "# Plot training & validation loss values\n",
    "plt.plot(history.history['loss'])\n",
    "plt.plot(history.history['val_loss'])\n",
    "plt.title('Model loss')\n",
    "plt.ylabel('Loss')\n",
    "plt.xlabel('Epochs')\n",
    "plt.legend(['Train', 'Test'], loc='upper left')\n",
    "plt.show()"
   ]
  },
  {
   "cell_type": "code",
   "execution_count": 21,
   "metadata": {
    "colab": {},
    "colab_type": "code",
    "id": "NTWGOqEDsYnL"
   },
   "outputs": [],
   "source": [
    "# y_prob = model.predict(tnpimages)\n",
    "# y_prob[1]"
   ]
  },
  {
   "cell_type": "code",
   "execution_count": 22,
   "metadata": {
    "colab": {
     "base_uri": "https://localhost:8080/",
     "height": 34
    },
    "colab_type": "code",
    "id": "K5qTEpIV8SNU",
    "outputId": "5381c3d8-71d2-427b-fd3c-985ad17f5359"
   },
   "outputs": [
    {
     "data": {
      "text/plain": [
       "12"
      ]
     },
     "execution_count": 22,
     "metadata": {},
     "output_type": "execute_result"
    }
   ],
   "source": [
    "ypred=model.predict_classes(tnpimages)\n",
    "tnplabels[10]"
   ]
  },
  {
   "cell_type": "code",
   "execution_count": 23,
   "metadata": {
    "colab": {
     "base_uri": "https://localhost:8080/",
     "height": 136
    },
    "colab_type": "code",
    "id": "9p5sUq1E-823",
    "outputId": "4e249290-c077-45dc-9f67-43bc75911205"
   },
   "outputs": [
    {
     "name": "stdout",
     "output_type": "stream",
     "text": [
      "[[ 60   0   0 ...   0   0   0]\n",
      " [  0 718   0 ...   0   0   0]\n",
      " [  0   3 747 ...   0   0   0]\n",
      " ...\n",
      " [  0   1   0 ...  77   0   0]\n",
      " [  0   0   0 ...   0  48   0]\n",
      " [  0   0   0 ...   0   2  87]]\n"
     ]
    }
   ],
   "source": [
    "from sklearn.metrics import confusion_matrix\n",
    "\n",
    "cm=confusion_matrix(tnplabels, ypred)\n",
    "print(cm)"
   ]
  },
  {
   "cell_type": "code",
   "execution_count": 24,
   "metadata": {
    "colab": {
     "base_uri": "https://localhost:8080/",
     "height": 867
    },
    "colab_type": "code",
    "id": "5XKUY8qnFlCe",
    "outputId": "a0d4b41b-3a23-4023-c343-a32823452a1b"
   },
   "outputs": [
    {
     "name": "stdout",
     "output_type": "stream",
     "text": [
      "              precision    recall  f1-score   support\n",
      "\n",
      "           0       0.98      1.00      0.99        60\n",
      "           1       0.99      1.00      0.99       720\n",
      "           2       1.00      1.00      1.00       750\n",
      "           3       0.97      0.98      0.98       450\n",
      "           4       1.00      0.99      1.00       660\n",
      "           5       0.98      0.99      0.99       630\n",
      "           6       0.98      0.97      0.98       150\n",
      "           7       0.98      0.99      0.99       450\n",
      "           8       0.99      0.95      0.97       450\n",
      "           9       0.98      1.00      0.99       480\n",
      "          10       1.00      0.99      1.00       660\n",
      "          11       0.99      1.00      0.99       420\n",
      "          12       0.97      0.98      0.97       690\n",
      "          13       0.99      0.99      0.99       720\n",
      "          14       0.99      1.00      1.00       270\n",
      "          15       0.99      1.00      1.00       210\n",
      "          16       0.99      1.00      0.99       150\n",
      "          17       1.00      0.99      0.99       360\n",
      "          18       0.98      0.95      0.96       390\n",
      "          19       0.98      1.00      0.99        60\n",
      "          20       0.96      1.00      0.98        90\n",
      "          21       0.96      0.88      0.92        90\n",
      "          22       0.99      0.88      0.93       120\n",
      "          23       0.98      1.00      0.99       150\n",
      "          24       0.94      0.97      0.95        90\n",
      "          25       0.99      0.98      0.98       480\n",
      "          26       0.92      0.92      0.92       180\n",
      "          27       0.98      0.93      0.96        60\n",
      "          28       0.95      0.99      0.97       150\n",
      "          29       0.83      1.00      0.91        90\n",
      "          30       0.97      0.92      0.95       150\n",
      "          31       0.99      0.99      0.99       270\n",
      "          32       0.95      1.00      0.98        60\n",
      "          33       1.00      1.00      1.00       210\n",
      "          34       0.99      1.00      1.00       120\n",
      "          35       1.00      0.98      0.99       390\n",
      "          36       0.97      0.97      0.97       120\n",
      "          37       0.92      1.00      0.96        60\n",
      "          38       0.98      1.00      0.99       690\n",
      "          39       0.99      0.99      0.99        90\n",
      "          40       0.89      0.86      0.87        90\n",
      "          41       0.96      0.80      0.87        60\n",
      "          42       1.00      0.97      0.98        90\n",
      "\n",
      "   micro avg       0.98      0.98      0.98     12630\n",
      "   macro avg       0.97      0.97      0.97     12630\n",
      "weighted avg       0.98      0.98      0.98     12630\n",
      "\n"
     ]
    }
   ],
   "source": [
    "from sklearn.metrics import classification_report\n",
    "print(classification_report(tnplabels, ypred))\n"
   ]
  },
  {
   "cell_type": "code",
   "execution_count": 25,
   "metadata": {
    "colab": {
     "base_uri": "https://localhost:8080/",
     "height": 1034
    },
    "colab_type": "code",
    "id": "0DpczdLpAFSa",
    "outputId": "117fced6-f9d5-4fcb-9811-3c503a6063d3"
   },
   "outputs": [
    {
     "data": {
      "text/plain": [
       "<matplotlib.axes._subplots.AxesSubplot at 0x1cd9d2f4da0>"
      ]
     },
     "execution_count": 25,
     "metadata": {},
     "output_type": "execute_result"
    },
    {
     "data": {
      "image/png": "[encoded data removed]",
      "text/plain": [
       "<Figure size 1440x1280 with 2 Axes>"
      ]
     },
     "metadata": {},
     "output_type": "display_data"
    }
   ],
   "source": [
    "import seaborn as sns\n",
    "fig=plt.figure(figsize=(18, 16), dpi= 80, facecolor='w', edgecolor='k')\n",
    "\n",
    "\n",
    "sns.heatmap(confusion_matrix(tnplabels, ypred),annot=True,fmt=\"d\") \n"
   ]
  },
  {
   "cell_type": "code",
   "execution_count": 26,
   "metadata": {
    "colab": {},
    "colab_type": "code",
    "id": "ouPtpjL9yfRS"
   },
   "outputs": [],
   "source": [
    "data1=tnpimages\n"
   ]
  },
  {
   "cell_type": "code",
   "execution_count": 27,
   "metadata": {
    "colab": {
     "base_uri": "https://localhost:8080/",
     "height": 704
    },
    "colab_type": "code",
    "id": "HSlNI8lv-381",
    "outputId": "57c457a2-82c0-418f-8237-92b50e6e9ff9"
   },
   "outputs": [
    {
     "name": "stdout",
     "output_type": "stream",
     "text": [
      "98.23436262866193\n",
      "91.23515440845716\n",
      "84.75059383744204\n",
      "79.19239904799352\n",
      "74.69517023527519\n",
      "70.68091845663407\n",
      "67.40300872169217\n",
      "65.14647663253126\n",
      "62.23277907945387\n",
      "60.01583531369129\n",
      "57.71179729383896\n",
      "55.37608868530225\n",
      "53.84798100895101\n",
      "52.12984956830433\n",
      "50.482977057673686\n",
      "48.915281078217056\n",
      "47.42676167476772\n",
      "45.88281869086026\n",
      "44.06175772254654\n",
      "43.539192392914806\n"
     ]
    },
    {
     "data": {
      "text/plain": [
       "[<matplotlib.lines.Line2D at 0x1cdb0397400>]"
      ]
     },
     "execution_count": 27,
     "metadata": {},
     "output_type": "execute_result"
    },
    {
     "data": {
      "image/png": "[encoded data removed]",
      "text/plain": [
       "<Figure size 432x288 with 1 Axes>"
      ]
     },
     "metadata": {
      "needs_background": "light"
     },
     "output_type": "display_data"
    }
   ],
   "source": [
    "## gaussian noise evaluation\n",
    "\n",
    "from skimage.util import random_noise\n",
    "from skimage import transform\n",
    "import matplotlib.pyplot as plt\n",
    "\n",
    "import numpy as np\n",
    "vara=np.linspace(0, 0.1, 20)\n",
    "i=0\n",
    "b=np.zeros((len(vara),1))\n",
    "for a in vara:\n",
    "\n",
    "  gaussian_noise_imgs = [random_noise(image, mode='gaussian',mean=0,var=a,seed=None, clip=True) for image in data1]\n",
    "  gaussian_noise_imgs=np.array(gaussian_noise_imgs)\n",
    "  \n",
    "  gaussian_noise_imgs=gaussian_noise_imgs.astype('float32')\n",
    "  score = model.evaluate(gaussian_noise_imgs, Y_test, batch_size=128, verbose=0)\n",
    "  b[i]=score[1]*100\n",
    "  i+=1\n",
    "\n",
    "  print(score[1]*100)\n",
    "  \n",
    " \n",
    "fig, ax = plt.subplots()\n",
    "ax.plot(vara, b)\n",
    "\n",
    "  \n",
    " "
   ]
  },
  {
   "cell_type": "code",
   "execution_count": 28,
   "metadata": {
    "colab": {},
    "colab_type": "code",
    "id": "bzuOcoP5-emX"
   },
   "outputs": [],
   "source": [
    "\n",
    "data2=tnpimages"
   ]
  },
  {
   "cell_type": "code",
   "execution_count": 29,
   "metadata": {
    "colab": {
     "base_uri": "https://localhost:8080/",
     "height": 561
    },
    "colab_type": "code",
    "id": "0g2VPZ_vkgJN",
    "outputId": "e03bc131-7129-4008-ac31-cec016b4a4b8"
   },
   "outputs": [
    {
     "name": "stdout",
     "output_type": "stream",
     "text": [
      "Accuracy is: 0.9635787806054098 for sd 10\n",
      "Accuracy is: 0.9649247821511867 for sd 10\n",
      "Accuracy is: 0.9644497228065183 for sd 10\n",
      " accuracy average is : 0.9643177618543716\n",
      "Accuracy is: 0.9016627078290412 for sd 20\n",
      "Accuracy is: 0.896357877907636 for sd 20\n",
      "Accuracy is: 0.899129057789453 for sd 20\n",
      " accuracy average is : 0.8990498811753768\n",
      "Accuracy is: 0.8094220111035961 for sd 30\n",
      "Accuracy is: 0.8069675377410079 for sd 30\n",
      "Accuracy is: 0.8119556612564474 for sd 30\n",
      " accuracy average is : 0.8094484033670172\n",
      "Accuracy is: 0.7215360252043602 for sd 40\n",
      "Accuracy is: 0.723752969281596 for sd 40\n",
      "Accuracy is: 0.7235154395526303 for sd 40\n",
      " accuracy average is : 0.7229348113461955\n",
      "Accuracy is: 0.6432304039892467 for sd 50\n",
      "Accuracy is: 0.6381631035797197 for sd 50\n",
      "Accuracy is: 0.6384006332709312 for sd 50\n",
      " accuracy average is : 0.6399313802799659\n",
      "Accuracy is: 0.9757719714209284 for sd 6.3\n",
      "Accuracy is: 0.975138558873277 for sd 6.3\n",
      "Accuracy is: 0.9766429136597912 for sd 6.3\n",
      " accuracy average is : 0.9758511479846655\n",
      "Accuracy is: 0.9489311165311274 for sd 12.75\n",
      "Accuracy is: 0.9499604118597101 for sd 12.75\n",
      "Accuracy is: 0.9507521775348359 for sd 12.75\n",
      " accuracy average is : 0.9498812353085578\n",
      "Accuracy is: 0.9050673001452466 for sd 19.21\n",
      "Accuracy is: 0.9064924782547608 for sd 19.21\n",
      "Accuracy is: 0.9039588280641552 for sd 19.21\n",
      " accuracy average is : 0.9051728688213876\n"
     ]
    }
   ],
   "source": [
    "\n",
    "sd1=[10, 10,10]\n",
    "sd2=[20, 20,20]\n",
    "sd3=[30, 30,30]\n",
    "sd4=[40, 40,40]\n",
    "sd5=[50, 50,50]\n",
    "sd6=[6.3, 6.3, 6.3]\n",
    "sd7=[12.75, 12.75, 12.75]\n",
    "sd8=[19.21, 19.21, 19.21]\n",
    "sdrange=[sd1,sd2,sd3,sd4,sd5,sd6,sd7,sd8]\n",
    "\n",
    "\n",
    "nprn=np.zeros(3)\n",
    "\n",
    "for sd in sdrange:\n",
    "  i=0\n",
    "  for values in sd:\n",
    "      nsd=values/255\n",
    "      varsd=nsd*nsd\n",
    "      gaussian_noise_imgs = [random_noise(image, mode='gaussian',mean=0,var=varsd,seed=None, clip=True) for image in data2]\n",
    "      gaussian_noise_imgs=np.array(gaussian_noise_imgs)\n",
    "      \n",
    "      gaussian_noise_imgs=gaussian_noise_imgs.astype('float32')\n",
    "      score = model.evaluate(gaussian_noise_imgs, Y_test, batch_size=128, verbose=0)\n",
    "      print('Accuracy is:', score[1], 'for sd', values)  \n",
    "      nprn[i]=score[1]\n",
    "      i+=1\n",
    "\n",
    "      \n",
    "\n",
    "  avgsd=nprn\n",
    "  print(' accuracy average is :', sum(avgsd) / len(avgsd))\n"
   ]
  },
  {
   "cell_type": "code",
   "execution_count": 30,
   "metadata": {
    "colab": {
     "base_uri": "https://localhost:8080/",
     "height": 304
    },
    "colab_type": "code",
    "id": "BP8qUSshCNh1",
    "outputId": "569bf4ce-44ed-4228-e87c-57db125d370d"
   },
   "outputs": [
    {
     "name": "stdout",
     "output_type": "stream",
     "text": [
      "psnr of original image and true image : 14.148861040288892\n",
      "float64\n",
      "float64\n"
     ]
    },
    {
     "data": {
      "image/png": "[encoded data removed]",
      "text/plain": [
       "<Figure size 432x288 with 2 Axes>"
      ]
     },
     "metadata": {
      "needs_background": "light"
     },
     "output_type": "display_data"
    }
   ],
   "source": [
    "  #psnr calculatioon\n",
    "  \n",
    "  import skimage\n",
    "  import numpy as np\n",
    "  from skimage import img_as_float\n",
    "  b=1\n",
    "  \n",
    "  a = random_noise(tnpimages[b], mode='gaussian',mean=0,var=0.05,seed=None, clip=True) \n",
    "  plt.subplot(1, 2,1)\n",
    "  plt.imshow(a)\n",
    "  plt.subplot(1, 2,2)\n",
    "  c=tnpimages[b]\n",
    "  plt.imshow(c)\n",
    "  imtrue=img_as_float(c)\n",
    "  imtest=a\n",
    "  print('psnr of original image and true image :',skimage.measure.compare_psnr(imtrue, imtest, data_range=None))\n",
    "  \n",
    "  print(imtrue.dtype)\n",
    "  print(imtest.dtype)"
   ]
  },
  {
   "cell_type": "code",
   "execution_count": 31,
   "metadata": {
    "colab": {},
    "colab_type": "code",
    "id": "EWo6Z0Q1-38I"
   },
   "outputs": [],
   "source": [
    "\n",
    "model.save('keras4_Cudnngru_adadelta_pooldrop.h5')"
   ]
  }
 ],
 "metadata": {
  "accelerator": "GPU",
  "colab": {
   "collapsed_sections": [],
   "name": "keras4_Cnn_adadelta_pooldrop",
   "provenance": [],
   "version": "0.3.2"
  },
  "kernelspec": {
   "display_name": "tfgpu",
   "language": "python",
   "name": "tfgpu"
  },
  "language_info": {
   "codemirror_mode": {
    "name": "ipython",
    "version": 3
   },
   "file_extension": ".py",
   "mimetype": "text/x-python",
   "name": "python",
   "nbconvert_exporter": "python",
   "pygments_lexer": "ipython3",
   "version": "3.6.8"
  }
 },
 "nbformat": 4,
 "nbformat_minor": 1
}
