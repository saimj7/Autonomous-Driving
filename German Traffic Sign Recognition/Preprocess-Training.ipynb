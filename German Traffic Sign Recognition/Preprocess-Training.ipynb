{
 "cells": [
  {
   "cell_type": "code",
   "execution_count": 1,
   "metadata": {},
   "outputs": [
    {
     "name": "stdout",
     "output_type": "stream",
     "text": [
      "Start time in seconds is : 1553952108.9895227\n"
     ]
    }
   ],
   "source": [
    "import time\n",
    "start_time = time.time()\n",
    "print('Start time in seconds is : {}'.format(start_time))"
   ]
  },
  {
   "cell_type": "code",
   "execution_count": 2,
   "metadata": {},
   "outputs": [],
   "source": [
    "# training file directory\n",
    "import os\n",
    "import skimage\n",
    "import numpy as np\n",
    "def load_data(data_directory):\n",
    "    directories = [d for d in os.listdir(data_directory) \n",
    "                   if os.path.isdir(os.path.join(data_directory, d))]\n",
    "    labels = []\n",
    "    images = []\n",
    "    for d in directories:\n",
    "        label_directory = os.path.join(data_directory, d)\n",
    "        file_names = [os.path.join(label_directory, f) \n",
    "                      for f in os.listdir(label_directory) \n",
    "                      if f.endswith(\".ppm\")]\n",
    "        for f in file_names:\n",
    "            images.append(skimage.data.imread(f))\n",
    "            labels.append(int(d))\n",
    "    return images, labels\n",
    "\n",
    "ROOT_PATH = os.getcwd()\n",
    "train_data_directory = os.path.join(ROOT_PATH, \"GTSRB_Final_Training_Images\\GTSRB\\Final_Training\\Images\")\n",
    "\n",
    "images, labels = load_data(train_data_directory)"
   ]
  },
  {
   "cell_type": "code",
   "execution_count": 3,
   "metadata": {},
   "outputs": [
    {
     "name": "stdout",
     "output_type": "stream",
     "text": [
      "images shape: (39209,) \n",
      " labels shape: (39209,)\n",
      "first image shape: (30, 29, 3) \n",
      " first eleven label shape: [0 0 0 0 0 0 0 0 0 0]\n"
     ]
    }
   ],
   "source": [
    "# Training images data exploration\n",
    "npimages=np.array(images)\n",
    "nplabels=np.array(labels)\n",
    "print('images shape: {} \\n labels shape: {}'.format(npimages.shape, nplabels.shape))\n",
    "print('first image shape: {} \\n first eleven label shape: {}'.format(npimages[0].shape, nplabels[0:10]))\n"
   ]
  },
  {
   "cell_type": "code",
   "execution_count": 4,
   "metadata": {},
   "outputs": [
    {
     "name": "stdout",
     "output_type": "stream",
     "text": [
      "<class 'numpy.ndarray'>\n",
      "total number of images and size (39209,)\n",
      "Size of second image: (30, 29, 3)\n"
     ]
    }
   ],
   "source": [
    "print(type(npimages))\n",
    "print('total number of images and size {}'.format(npimages.shape))\n",
    "inputsize=npimages[0].shape\n",
    "print(\"Size of second image:\",inputsize)  "
   ]
  },
  {
   "cell_type": "code",
   "execution_count": 5,
   "metadata": {},
   "outputs": [
    {
     "data": {
      "text/plain": [
       "(39209,)"
      ]
     },
     "execution_count": 5,
     "metadata": {},
     "output_type": "execute_result"
    }
   ],
   "source": [
    "npimages.shape"
   ]
  },
  {
   "cell_type": "code",
   "execution_count": 6,
   "metadata": {},
   "outputs": [
    {
     "name": "stdout",
     "output_type": "stream",
     "text": [
      "(39209,)\n",
      "(39209,)\n"
     ]
    }
   ],
   "source": [
    "# type problem above\n",
    "labels=np.array(labels)\n",
    "print(npimages.shape)\n",
    "a=npimages.tolist()\n",
    "npimages=np.array(a)\n",
    "print(npimages.shape)"
   ]
  },
  {
   "cell_type": "code",
   "execution_count": 7,
   "metadata": {},
   "outputs": [],
   "source": [
    "aa=np.array(images);bb=np.array(labels)"
   ]
  },
  {
   "cell_type": "code",
   "execution_count": 8,
   "metadata": {},
   "outputs": [],
   "source": [
    "from tempfile import TemporaryFile\n",
    "outfile = TemporaryFile()\n",
    "np.savez(\"rawtrainfile\", aa, bb)\n"
   ]
  },
  {
   "cell_type": "markdown",
   "metadata": {},
   "source": [
    "# loading files\n",
    "import os\n",
    "import numpy as np\n",
    "npzfile=np.load(\"outfile.npz\")\n",
    "\n",
    "npzfile.files\n",
    "\n",
    "images27=npzfile['arr_0']\n",
    "labels=npzfile['arr_1']\n",
    "\n",
    "print(images27[3].shape)\n",
    "print(labels[3].shape)"
   ]
  },
  {
   "cell_type": "code",
   "execution_count": 9,
   "metadata": {},
   "outputs": [
    {
     "name": "stdout",
     "output_type": "stream",
     "text": [
      "Total time to run 13.70374870300293 seconds\n"
     ]
    }
   ],
   "source": [
    "print(\"Total time to run %s seconds\" % (time.time() - start_time))\n"
   ]
  }
 ],
 "metadata": {
  "kernelspec": {
   "display_name": "Python 3",
   "language": "python",
   "name": "python3"
  },
  "language_info": {
   "codemirror_mode": {
    "name": "ipython",
    "version": 3
   },
   "file_extension": ".py",
   "mimetype": "text/x-python",
   "name": "python",
   "nbconvert_exporter": "python",
   "pygments_lexer": "ipython3",
   "version": "3.7.1"
  }
 },
 "nbformat": 4,
 "nbformat_minor": 2
}
