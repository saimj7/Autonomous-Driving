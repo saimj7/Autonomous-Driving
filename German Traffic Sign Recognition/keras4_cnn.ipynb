{
 "cells": [
  {
   "cell_type": "code",
   "execution_count": 1,
   "metadata": {
    "colab": {},
    "colab_type": "code",
    "id": "EHLwmtIK-3-b"
   },
   "outputs": [],
   "source": [
    "%reset -f"
   ]
  },
  {
   "cell_type": "code",
   "execution_count": null,
   "metadata": {
    "colab": {
     "base_uri": "https://localhost:8080/",
     "height": 122
    },
    "colab_type": "code",
    "id": "JywIYnMA-3-W",
    "outputId": "94e6b5bd-78b6-424d-d8e1-7c91d89cb847"
   },
   "outputs": [],
   "source": []
  },
  {
   "cell_type": "code",
   "execution_count": 2,
   "metadata": {
    "colab": {
     "base_uri": "https://localhost:8080/",
     "height": 34
    },
    "colab_type": "code",
    "id": "6zgpQ1MI-3-K",
    "outputId": "47b3594a-3432-4f0f-9416-f644f28b30d6"
   },
   "outputs": [
    {
     "name": "stdout",
     "output_type": "stream",
     "text": [
      "1.12.0\n"
     ]
    }
   ],
   "source": [
    "import tensorflow as tf\n",
    "import time\n",
    "\n",
    "print(tf.__version__)"
   ]
  },
  {
   "cell_type": "code",
   "execution_count": 3,
   "metadata": {
    "colab": {},
    "colab_type": "code",
    "id": "8fWHLKlY-3-H"
   },
   "outputs": [],
   "source": [
    "import os\n",
    "import numpy as np\n",
    "npzfile=np.load('rawtrainfile.npz')\n",
    "npzfile.files\n",
    "\n",
    "images=npzfile['arr_0']\n",
    "labels=npzfile['arr_1']\n",
    "\n",
    "\n"
   ]
  },
  {
   "cell_type": "code",
   "execution_count": 4,
   "metadata": {
    "colab": {
     "base_uri": "https://localhost:8080/",
     "height": 85
    },
    "colab_type": "code",
    "id": "GkfygTsD-3-C",
    "outputId": "fad14759-9f8c-45fb-a046-0e81eba52c16"
   },
   "outputs": [
    {
     "name": "stdout",
     "output_type": "stream",
     "text": [
      "images shape: (39209,) \n",
      " labels shape: (39209,)\n",
      "first image shape: (30, 29, 3) \n",
      " first eleven label shape: [0 0 0 0 0 0 0 0 0 0]\n"
     ]
    }
   ],
   "source": [
    "npimages=np.array(images)\n",
    "nplabels=np.array(labels)\n",
    "print('images shape: {} \\n labels shape: {}'.format(npimages.shape, nplabels.shape))\n",
    "print('first image shape: {} \\n first eleven label shape: {}'.format(npimages[0].shape, nplabels[0:10]))\n"
   ]
  },
  {
   "cell_type": "code",
   "execution_count": 5,
   "metadata": {
    "colab": {
     "base_uri": "https://localhost:8080/",
     "height": 68
    },
    "colab_type": "code",
    "id": "imi0nD6W-397",
    "outputId": "ffc508e8-c253-4eda-8fd1-7b6150bde8e4"
   },
   "outputs": [
    {
     "name": "stderr",
     "output_type": "stream",
     "text": [
      "C:\\Users\\asmna\\Documents\\Python\\envs\\tfgpu\\lib\\site-packages\\skimage\\transform\\_warps.py:105: UserWarning: The default mode, 'constant', will be changed to 'reflect' in skimage 0.15.\n",
      "  warn(\"The default mode, 'constant', will be changed to 'reflect' in \"\n",
      "C:\\Users\\asmna\\Documents\\Python\\envs\\tfgpu\\lib\\site-packages\\skimage\\transform\\_warps.py:110: UserWarning: Anti-aliasing will be enabled by default in skimage 0.15 to avoid aliasing artifacts when down-sampling images.\n",
      "  warn(\"Anti-aliasing will be enabled by default in skimage 0.15 to \"\n"
     ]
    },
    {
     "name": "stdout",
     "output_type": "stream",
     "text": [
      "<class 'list'>\n"
     ]
    }
   ],
   "source": [
    "from skimage.transform import resize\n",
    "\n",
    "images48 = [resize(image, (48, 48)) for image in npimages]\n",
    "print(type(images48))\n"
   ]
  },
  {
   "cell_type": "code",
   "execution_count": 6,
   "metadata": {
    "colab": {
     "base_uri": "https://localhost:8080/",
     "height": 51
    },
    "colab_type": "code",
    "id": "4th7LwUh-394",
    "outputId": "ff723a5d-6023-4656-d573-67009fc5dd8b"
   },
   "outputs": [
    {
     "name": "stdout",
     "output_type": "stream",
     "text": [
      "total number of images and size (39209, 48, 48, 3)\n",
      "(48, 48, 3)\n"
     ]
    }
   ],
   "source": [
    "images48 = np.array(images48)\n",
    "print('total number of images and size {}'.format(images48.shape))\n",
    "print(images48[0].shape)"
   ]
  },
  {
   "cell_type": "code",
   "execution_count": 7,
   "metadata": {
    "cellView": "both",
    "colab": {
     "base_uri": "https://localhost:8080/",
     "height": 935
    },
    "colab_type": "code",
    "id": "OPoYCM2y-39u",
    "outputId": "22a41e35-5aa8-4a9f-b484-aba8089b4ed5"
   },
   "outputs": [
    {
     "name": "stderr",
     "output_type": "stream",
     "text": [
      "Using TensorFlow backend.\n"
     ]
    },
    {
     "name": "stdout",
     "output_type": "stream",
     "text": [
      "_________________________________________________________________\n",
      "Layer (type)                 Output Shape              Param #   \n",
      "=================================================================\n",
      "conv2d_1 (Conv2D)            (None, 48, 48, 1)         4         \n",
      "_________________________________________________________________\n",
      "batch_normalization_1 (Batch (None, 48, 48, 1)         4         \n",
      "_________________________________________________________________\n",
      "conv2d_2 (Conv2D)            (None, 44, 44, 29)        754       \n",
      "_________________________________________________________________\n",
      "batch_normalization_2 (Batch (None, 44, 44, 29)        116       \n",
      "_________________________________________________________________\n",
      "max_pooling2d_1 (MaxPooling2 (None, 21, 21, 29)        0         \n",
      "_________________________________________________________________\n",
      "dropout_1 (Dropout)          (None, 21, 21, 29)        0         \n",
      "_________________________________________________________________\n",
      "conv2d_3 (Conv2D)            (None, 19, 19, 59)        15458     \n",
      "_________________________________________________________________\n",
      "batch_normalization_3 (Batch (None, 19, 19, 59)        236       \n",
      "_________________________________________________________________\n",
      "max_pooling2d_2 (MaxPooling2 (None, 9, 9, 59)          0         \n",
      "_________________________________________________________________\n",
      "dropout_2 (Dropout)          (None, 9, 9, 59)          0         \n",
      "_________________________________________________________________\n",
      "conv2d_4 (Conv2D)            (None, 7, 7, 74)          39368     \n",
      "_________________________________________________________________\n",
      "batch_normalization_4 (Batch (None, 7, 7, 74)          296       \n",
      "_________________________________________________________________\n",
      "max_pooling2d_3 (MaxPooling2 (None, 3, 3, 74)          0         \n",
      "_________________________________________________________________\n",
      "dropout_3 (Dropout)          (None, 3, 3, 74)          0         \n",
      "_________________________________________________________________\n",
      "flatten_1 (Flatten)          (None, 666)               0         \n",
      "_________________________________________________________________\n",
      "dense_1 (Dense)              (None, 300)               200100    \n",
      "_________________________________________________________________\n",
      "dropout_4 (Dropout)          (None, 300)               0         \n",
      "_________________________________________________________________\n",
      "dense_2 (Dense)              (None, 225)               67725     \n",
      "_________________________________________________________________\n",
      "dropout_5 (Dropout)          (None, 225)               0         \n",
      "_________________________________________________________________\n",
      "dense_3 (Dense)              (None, 43)                9718      \n",
      "=================================================================\n",
      "Total params: 333,779\n",
      "Trainable params: 333,453\n",
      "Non-trainable params: 326\n",
      "_________________________________________________________________\n"
     ]
    }
   ],
   "source": [
    "import keras\n",
    "from keras.layers import Input, Embedding, GRU, LSTM, MaxPooling2D, CuDNNGRU, CuDNNLSTM, Reshape\n",
    "from keras.layers import Dropout, Dense, Activation, Flatten,Conv2D,  BatchNormalization\n",
    "from keras.models import Sequential\n",
    "from keras.layers import LSTM  \n",
    "\n",
    "\n",
    "model = Sequential()\n",
    "model.add(Conv2D(1, kernel_size=(1, 1),padding='valid', strides=1, activation='relu', input_shape=(48,48,3)))\n",
    "model.add(BatchNormalization())\n",
    "model.add(Conv2D(29, 5, padding='valid', strides=1, activation='relu'))\n",
    "model.add(BatchNormalization())\n",
    "model.add(MaxPooling2D(3,  padding='valid',strides=2))\n",
    "model.add(Dropout(0.1))\n",
    "                 \n",
    "model.add(Conv2D(59, 3,  padding='valid',strides=1, activation='relu')) # increase kernel size to 5\n",
    "model.add(BatchNormalization())\n",
    "model.add(MaxPooling2D(3,strides=2,  padding='valid'))\n",
    "model.add(Dropout(0.1))\n",
    "\n",
    "model.add(Conv2D(74, 3, strides=1, activation='relu'))\n",
    "model.add(BatchNormalization())\n",
    "\n",
    "model.add(MaxPooling2D(3,strides=2,  padding='valid')) \n",
    "model.add(Dropout(0.1))\n",
    "model.add(Flatten())\n",
    "model.add(Dense(300))\n",
    "model.add(Dropout(0.5))\n",
    "model.add(Dense(225))\n",
    "model.add(Dropout(0.5))\n",
    "#model.add(Reshape((15, 15)))\n",
    "#model.add(LSTM(86, dropout=0.1, recurrent_dropout=0.5)) # defaults inclide tanh activation\n",
    "#model.add(CuDNNLSTM(86))\n",
    "model.add(Dense(43, activation='softmax'))\n",
    "model.summary()"
   ]
  },
  {
   "cell_type": "code",
   "execution_count": 8,
   "metadata": {
    "colab": {
     "base_uri": "https://localhost:8080/",
     "height": 115
    },
    "colab_type": "code",
    "id": "wL3x3Ee4-390",
    "outputId": "efdaaf5e-5115-4b7d-d3c8-162c90f61eb3"
   },
   "outputs": [
    {
     "data": {
      "text/plain": [
       "<Figure size 640x480 with 5 Axes>"
      ]
     },
     "metadata": {},
     "output_type": "display_data"
    }
   ],
   "source": [
    "## Training plot\n",
    "\n",
    "import matplotlib.pyplot as plt\n",
    "\n",
    "traffic_signs = [250, 2120, 3400, 6500,9000]\n",
    "\n",
    "for i in range(len(traffic_signs)):\n",
    "    plt.subplot(1, 5, i+1)\n",
    "    plt.axis('off')\n",
    "    #plt.imshow(images27[traffic_signs[i]], cmap=\"gray\")\n",
    "    plt.imshow(images48[traffic_signs[i]])\n",
    "    plt.subplots_adjust(wspace=0.5)\n",
    "    \n",
    "# Show the plot\n",
    "plt.show()"
   ]
  },
  {
   "cell_type": "code",
   "execution_count": 9,
   "metadata": {
    "colab": {
     "base_uri": "https://localhost:8080/",
     "height": 102
    },
    "colab_type": "code",
    "id": "aeDPIWad-39p",
    "outputId": "5702739b-4cf2-4110-df7b-c84a21537c05"
   },
   "outputs": [
    {
     "name": "stdout",
     "output_type": "stream",
     "text": [
      "(39209, 48, 48, 3)\n",
      "First label is 0 and Total labels shape are (39209,)\n",
      "after one hot coding Labels shape is: (39209, 43)\n",
      "First Label after one hot coding: [1. 0. 0. 0. 0. 0. 0. 0. 0. 0. 0. 0. 0. 0. 0. 0. 0. 0. 0. 0. 0. 0. 0. 0.\n",
      " 0. 0. 0. 0. 0. 0. 0. 0. 0. 0. 0. 0. 0. 0. 0. 0. 0. 0. 0.]\n"
     ]
    }
   ],
   "source": [
    "\n",
    "X_train=images48.astype('float32')\n",
    "\n",
    "print(X_train.shape)\n",
    "\n",
    "#nplabels=np.array(labels)\n",
    "print(\"First label is %s and Total labels shape are %s\" %(nplabels[0], nplabels.shape))\n",
    "\n",
    "\n",
    "Y = keras.utils.to_categorical(nplabels,43)\n",
    "\n",
    "print(\"after one hot coding Labels shape is:\",Y.shape)\n",
    "print(\"First Label after one hot coding:\",Y[0])"
   ]
  },
  {
   "cell_type": "code",
   "execution_count": 10,
   "metadata": {
    "colab": {},
    "colab_type": "code",
    "id": "O86B0GC--39b"
   },
   "outputs": [],
   "source": [
    "import pandas as pd\n",
    "import os\n",
    "import numpy as np\n",
    "npzfilet=np.load('rawtestfile.npz')\n",
    "npzfilet.files\n",
    "\n",
    "X_test=npzfilet['arr_0']\n",
    "y_test=npzfilet['arr_1']\n",
    "\n",
    "\n",
    "\n",
    "test_images = np.array(X_test)\n",
    "test_labels = np.array(y_test)\n"
   ]
  },
  {
   "cell_type": "code",
   "execution_count": null,
   "metadata": {
    "colab": {},
    "colab_type": "code",
    "id": "NsjV3g8Nw8PB"
   },
   "outputs": [],
   "source": []
  },
  {
   "cell_type": "code",
   "execution_count": 11,
   "metadata": {
    "colab": {
     "base_uri": "https://localhost:8080/",
     "height": 34
    },
    "colab_type": "code",
    "id": "RzyKosoe-39X",
    "outputId": "441a0b2f-7796-4bf4-d25d-f58e82034816"
   },
   "outputs": [
    {
     "data": {
      "text/plain": [
       "(12630,)"
      ]
     },
     "execution_count": 11,
     "metadata": {},
     "output_type": "execute_result"
    }
   ],
   "source": [
    "test_images.shape"
   ]
  },
  {
   "cell_type": "code",
   "execution_count": 12,
   "metadata": {
    "colab": {
     "base_uri": "https://localhost:8080/",
     "height": 51
    },
    "colab_type": "code",
    "id": "RxU1K3Xw-39U",
    "outputId": "a7ae4818-c207-440d-d1dc-fc1be0ba62d5"
   },
   "outputs": [
    {
     "name": "stderr",
     "output_type": "stream",
     "text": [
      "C:\\Users\\asmna\\Documents\\Python\\envs\\tfgpu\\lib\\site-packages\\skimage\\transform\\_warps.py:105: UserWarning: The default mode, 'constant', will be changed to 'reflect' in skimage 0.15.\n",
      "  warn(\"The default mode, 'constant', will be changed to 'reflect' in \"\n",
      "C:\\Users\\asmna\\Documents\\Python\\envs\\tfgpu\\lib\\site-packages\\skimage\\transform\\_warps.py:110: UserWarning: Anti-aliasing will be enabled by default in skimage 0.15 to avoid aliasing artifacts when down-sampling images.\n",
      "  warn(\"Anti-aliasing will be enabled by default in skimage 0.15 to \"\n"
     ]
    }
   ],
   "source": [
    "from skimage import transform\n",
    "from skimage.color import rgb2gray\n",
    "\n",
    "test_imagesnp=np.array(test_images)\n",
    "    \n",
    "\n",
    "# Transform the images to 28 by 28 pixels\n",
    "test_images48 = [transform.resize(image, (48, 48)) for image in test_imagesnp]\n",
    "\n"
   ]
  },
  {
   "cell_type": "code",
   "execution_count": 13,
   "metadata": {
    "colab": {
     "base_uri": "https://localhost:8080/",
     "height": 115
    },
    "colab_type": "code",
    "id": "oIjSirmF-39Q",
    "outputId": "79780393-37a3-4660-f952-d7c8aaab3067"
   },
   "outputs": [
    {
     "data": {
      "image/png": "[encoded data removed]",
      "text/plain": [
       "<Figure size 432x288 with 5 Axes>"
      ]
     },
     "metadata": {
      "needs_background": "light"
     },
     "output_type": "display_data"
    }
   ],
   "source": [
    "import matplotlib.pyplot as plt\n",
    "\n",
    "testsigns = [150, 700, 1100, 1500,5000]\n",
    "\n",
    "for i in range(len(testsigns)):\n",
    "    plt.subplot(1, 5, i+1)\n",
    "    plt.axis('off')\n",
    "    #plt.imshow(images27[traffic_signs[i]], cmap=\"gray\")\n",
    "    plt.imshow(test_images48[testsigns[i]])\n",
    "    plt.subplots_adjust(wspace=0.5)\n",
    "    \n",
    "# Show the plot\n",
    "plt.show()"
   ]
  },
  {
   "cell_type": "code",
   "execution_count": 14,
   "metadata": {
    "colab": {
     "base_uri": "https://localhost:8080/",
     "height": 85
    },
    "colab_type": "code",
    "id": "eNgU8B1z-39L",
    "outputId": "8da10da0-fee7-4dba-eb29-0174befac723"
   },
   "outputs": [
    {
     "name": "stdout",
     "output_type": "stream",
     "text": [
      "images shape: (12630, 48, 48, 3) \n",
      " labels shape: (12630,)\n",
      "first image shape: (48, 48, 3) \n",
      " first eleven label shape: [16  1 38 33 11 38 18 12 25 35]\n"
     ]
    }
   ],
   "source": [
    "tnpimages=np.array(test_images48)\n",
    "tnplabels=np.array(test_labels)\n",
    "print('images shape: {} \\n labels shape: {}'.format(tnpimages.shape, tnplabels.shape))\n",
    "print('first image shape: {} \\n first eleven label shape: {}'.format(tnpimages[0].shape, tnplabels[0:10]))\n"
   ]
  },
  {
   "cell_type": "code",
   "execution_count": 15,
   "metadata": {
    "colab": {},
    "colab_type": "code",
    "id": "kukWpSou-39I"
   },
   "outputs": [],
   "source": [
    "#X_test=test_images27\n",
    "X_test=tnpimages.astype('float32')\n",
    "\n",
    "Y_test = keras.utils.to_categorical(tnplabels,43)\n"
   ]
  },
  {
   "cell_type": "code",
   "execution_count": 16,
   "metadata": {
    "colab": {
     "base_uri": "https://localhost:8080/",
     "height": 34
    },
    "colab_type": "code",
    "id": "png_dopEVvGE",
    "outputId": "59ab205e-1c9b-4c53-ddb1-6b6598d90bbe"
   },
   "outputs": [
    {
     "name": "stdout",
     "output_type": "stream",
     "text": [
      "Start time in seconds is : 1552521229.8067539\n"
     ]
    }
   ],
   "source": [
    "\n",
    "start_time = time.time()\n",
    "print('Start time in seconds is : {}'.format(start_time))"
   ]
  },
  {
   "cell_type": "markdown",
   "metadata": {
    "colab_type": "text",
    "id": "HNcUkihDVuWh"
   },
   "source": []
  },
  {
   "cell_type": "code",
   "execution_count": 17,
   "metadata": {
    "colab": {
     "base_uri": "https://localhost:8080/",
     "height": 5185
    },
    "colab_type": "code",
    "id": "b-DslZbH-38_",
    "outputId": "86df33f7-b7f7-4327-f899-dbded6d6fea9",
    "scrolled": false
   },
   "outputs": [
    {
     "name": "stdout",
     "output_type": "stream",
     "text": [
      "Train on 39209 samples, validate on 12630 samples\n",
      "Epoch 1/150\n",
      "39209/39209 [==============================] - 17s 439us/step - loss: 3.4836 - acc: 0.2682 - val_loss: 2.1428 - val_acc: 0.3144\n",
      "Epoch 2/150\n",
      "39209/39209 [==============================] - 13s 338us/step - loss: 1.9972 - acc: 0.3854 - val_loss: 1.6420 - val_acc: 0.4838\n",
      "Epoch 3/150\n",
      "39209/39209 [==============================] - 13s 339us/step - loss: 1.3790 - acc: 0.5768 - val_loss: 1.4547 - val_acc: 0.5882\n",
      "Epoch 4/150\n",
      "39209/39209 [==============================] - 13s 338us/step - loss: 0.7016 - acc: 0.7828 - val_loss: 0.5643 - val_acc: 0.8354\n",
      "Epoch 5/150\n",
      "39209/39209 [==============================] - 13s 336us/step - loss: 0.3753 - acc: 0.8860 - val_loss: 0.5413 - val_acc: 0.8521\n",
      "Epoch 6/150\n",
      "39209/39209 [==============================] - 13s 337us/step - loss: 0.2191 - acc: 0.9326 - val_loss: 0.3411 - val_acc: 0.9108\n",
      "Epoch 7/150\n",
      "39209/39209 [==============================] - 13s 342us/step - loss: 0.1576 - acc: 0.9546 - val_loss: 0.5098 - val_acc: 0.9016\n",
      "Epoch 8/150\n",
      "39209/39209 [==============================] - 13s 339us/step - loss: 0.1257 - acc: 0.9633 - val_loss: 0.2348 - val_acc: 0.9462\n",
      "Epoch 9/150\n",
      "39209/39209 [==============================] - 13s 341us/step - loss: 0.0985 - acc: 0.9712 - val_loss: 0.1985 - val_acc: 0.9526\n",
      "Epoch 10/150\n",
      "39209/39209 [==============================] - 13s 339us/step - loss: 0.0860 - acc: 0.9764 - val_loss: 0.1847 - val_acc: 0.9528\n",
      "Epoch 11/150\n",
      "39209/39209 [==============================] - 13s 340us/step - loss: 0.0760 - acc: 0.9782 - val_loss: 0.2409 - val_acc: 0.9452\n",
      "Epoch 12/150\n",
      "39209/39209 [==============================] - 13s 340us/step - loss: 0.0630 - acc: 0.9825 - val_loss: 0.2305 - val_acc: 0.9575\n",
      "Epoch 13/150\n",
      "39209/39209 [==============================] - 13s 336us/step - loss: 0.0590 - acc: 0.9838 - val_loss: 0.2040 - val_acc: 0.9572\n",
      "Epoch 14/150\n",
      "39209/39209 [==============================] - 13s 338us/step - loss: 0.0531 - acc: 0.9846 - val_loss: 0.1785 - val_acc: 0.9590\n",
      "Epoch 15/150\n",
      "39209/39209 [==============================] - 13s 335us/step - loss: 0.0501 - acc: 0.9867 - val_loss: 0.1593 - val_acc: 0.9696\n",
      "Epoch 16/150\n",
      "39209/39209 [==============================] - 13s 339us/step - loss: 0.0443 - acc: 0.9877 - val_loss: 0.1845 - val_acc: 0.9584\n",
      "Epoch 17/150\n",
      "39209/39209 [==============================] - 13s 338us/step - loss: 0.0354 - acc: 0.9895 - val_loss: 0.1896 - val_acc: 0.9586\n",
      "Epoch 18/150\n",
      "39209/39209 [==============================] - 13s 342us/step - loss: 0.0379 - acc: 0.9893 - val_loss: 0.1394 - val_acc: 0.9662\n",
      "Epoch 19/150\n",
      "39209/39209 [==============================] - 13s 343us/step - loss: 0.0349 - acc: 0.9907 - val_loss: 0.1513 - val_acc: 0.9684\n",
      "Epoch 20/150\n",
      "39209/39209 [==============================] - 14s 348us/step - loss: 0.0336 - acc: 0.9909 - val_loss: 0.1885 - val_acc: 0.9703\n",
      "Epoch 21/150\n",
      "39209/39209 [==============================] - 13s 342us/step - loss: 0.0353 - acc: 0.9914 - val_loss: 0.1655 - val_acc: 0.9745\n",
      "Epoch 22/150\n",
      "39209/39209 [==============================] - 13s 340us/step - loss: 0.0301 - acc: 0.9922 - val_loss: 0.1729 - val_acc: 0.9715\n",
      "Epoch 23/150\n",
      "39209/39209 [==============================] - 13s 339us/step - loss: 0.0242 - acc: 0.9931 - val_loss: 0.2128 - val_acc: 0.9595\n",
      "Epoch 24/150\n",
      "39209/39209 [==============================] - 13s 337us/step - loss: 0.0306 - acc: 0.9924 - val_loss: 0.1622 - val_acc: 0.9731\n",
      "Epoch 25/150\n",
      "39209/39209 [==============================] - 13s 335us/step - loss: 0.0263 - acc: 0.9935 - val_loss: 0.1499 - val_acc: 0.9747\n",
      "Epoch 26/150\n",
      "39209/39209 [==============================] - 13s 335us/step - loss: 0.0245 - acc: 0.9936 - val_loss: 0.1816 - val_acc: 0.9705\n",
      "Epoch 27/150\n",
      "39209/39209 [==============================] - 13s 341us/step - loss: 0.0262 - acc: 0.9935 - val_loss: 0.1502 - val_acc: 0.9736\n",
      "Epoch 28/150\n",
      "39209/39209 [==============================] - 13s 340us/step - loss: 0.0288 - acc: 0.9931 - val_loss: 0.1654 - val_acc: 0.9748\n",
      "Epoch 29/150\n",
      "39209/39209 [==============================] - 13s 339us/step - loss: 0.0224 - acc: 0.9944 - val_loss: 0.1395 - val_acc: 0.9745\n",
      "Epoch 30/150\n",
      "39209/39209 [==============================] - 13s 340us/step - loss: 0.0231 - acc: 0.9941 - val_loss: 0.1846 - val_acc: 0.9736\n",
      "Epoch 31/150\n",
      "39209/39209 [==============================] - 13s 341us/step - loss: 0.0201 - acc: 0.9943 - val_loss: 0.1540 - val_acc: 0.9718\n",
      "Epoch 32/150\n",
      "39209/39209 [==============================] - 13s 339us/step - loss: 0.0200 - acc: 0.9952 - val_loss: 0.1417 - val_acc: 0.9747\n",
      "Epoch 33/150\n",
      "39209/39209 [==============================] - 13s 337us/step - loss: 0.0177 - acc: 0.9961 - val_loss: 0.1689 - val_acc: 0.9731\n",
      "Epoch 34/150\n",
      "39209/39209 [==============================] - 13s 336us/step - loss: 0.0202 - acc: 0.9950 - val_loss: 0.1690 - val_acc: 0.9702\n",
      "Epoch 35/150\n",
      "39209/39209 [==============================] - 13s 336us/step - loss: 0.0182 - acc: 0.9950 - val_loss: 0.1734 - val_acc: 0.9732\n",
      "Epoch 36/150\n",
      "39209/39209 [==============================] - 13s 335us/step - loss: 0.0233 - acc: 0.9948 - val_loss: 0.2027 - val_acc: 0.9696\n",
      "Epoch 37/150\n",
      "39209/39209 [==============================] - 13s 335us/step - loss: 0.0194 - acc: 0.9951 - val_loss: 0.1725 - val_acc: 0.9747\n",
      "Epoch 38/150\n",
      "39209/39209 [==============================] - 13s 335us/step - loss: 0.0165 - acc: 0.9956 - val_loss: 0.1830 - val_acc: 0.9700\n",
      "Epoch 39/150\n",
      "39209/39209 [==============================] - 13s 336us/step - loss: 0.0198 - acc: 0.9960 - val_loss: 0.1824 - val_acc: 0.9740\n",
      "Epoch 40/150\n",
      "39209/39209 [==============================] - 13s 336us/step - loss: 0.0165 - acc: 0.9959 - val_loss: 0.1953 - val_acc: 0.9704\n",
      "Epoch 41/150\n",
      "39209/39209 [==============================] - 13s 336us/step - loss: 0.0193 - acc: 0.9952 - val_loss: 0.1358 - val_acc: 0.9766\n",
      "Epoch 42/150\n",
      "39209/39209 [==============================] - 13s 336us/step - loss: 0.0150 - acc: 0.9966 - val_loss: 0.1930 - val_acc: 0.9709\n",
      "Epoch 43/150\n",
      "39209/39209 [==============================] - 13s 335us/step - loss: 0.0186 - acc: 0.9959 - val_loss: 0.1614 - val_acc: 0.9739\n",
      "Epoch 44/150\n",
      "39209/39209 [==============================] - 13s 335us/step - loss: 0.0162 - acc: 0.9962 - val_loss: 0.1566 - val_acc: 0.9748\n",
      "Epoch 45/150\n",
      "39209/39209 [==============================] - 13s 339us/step - loss: 0.0171 - acc: 0.9958 - val_loss: 0.1629 - val_acc: 0.9746\n",
      "Epoch 46/150\n",
      "39209/39209 [==============================] - 13s 338us/step - loss: 0.0148 - acc: 0.9961 - val_loss: 0.1956 - val_acc: 0.9722\n",
      "Epoch 47/150\n",
      "39209/39209 [==============================] - 13s 343us/step - loss: 0.0136 - acc: 0.9964 - val_loss: 0.2010 - val_acc: 0.9658\n",
      "Epoch 48/150\n",
      "39209/39209 [==============================] - 13s 338us/step - loss: 0.0183 - acc: 0.9964 - val_loss: 0.1646 - val_acc: 0.9738\n",
      "Epoch 49/150\n",
      "39209/39209 [==============================] - 13s 335us/step - loss: 0.0197 - acc: 0.9954 - val_loss: 0.1893 - val_acc: 0.9726\n",
      "Epoch 50/150\n",
      "39209/39209 [==============================] - 13s 334us/step - loss: 0.0149 - acc: 0.9964 - val_loss: 0.1661 - val_acc: 0.9728\n",
      "Epoch 51/150\n",
      "39209/39209 [==============================] - 13s 335us/step - loss: 0.0138 - acc: 0.9969 - val_loss: 0.1993 - val_acc: 0.9716\n",
      "Epoch 52/150\n",
      "39209/39209 [==============================] - 13s 335us/step - loss: 0.0133 - acc: 0.9968 - val_loss: 0.1355 - val_acc: 0.9776\n",
      "Epoch 53/150\n",
      "39209/39209 [==============================] - 13s 335us/step - loss: 0.0144 - acc: 0.9967 - val_loss: 0.1678 - val_acc: 0.9756\n",
      "Epoch 54/150\n",
      "39209/39209 [==============================] - 13s 335us/step - loss: 0.0127 - acc: 0.9968 - val_loss: 0.1414 - val_acc: 0.9775\n",
      "Epoch 55/150\n",
      "39209/39209 [==============================] - 13s 334us/step - loss: 0.0147 - acc: 0.9969 - val_loss: 0.1052 - val_acc: 0.9798\n",
      "Epoch 56/150\n",
      "39209/39209 [==============================] - 13s 338us/step - loss: 0.0136 - acc: 0.9968 - val_loss: 0.1246 - val_acc: 0.9806\n",
      "Epoch 57/150\n",
      "39209/39209 [==============================] - 13s 343us/step - loss: 0.0146 - acc: 0.9966 - val_loss: 0.1590 - val_acc: 0.9756\n",
      "Epoch 58/150\n",
      "39209/39209 [==============================] - 13s 338us/step - loss: 0.0123 - acc: 0.9971 - val_loss: 0.1897 - val_acc: 0.9738\n"
     ]
    },
    {
     "name": "stdout",
     "output_type": "stream",
     "text": [
      "Epoch 59/150\n",
      "39209/39209 [==============================] - 13s 338us/step - loss: 0.0132 - acc: 0.9969 - val_loss: 0.1492 - val_acc: 0.9762\n",
      "Epoch 60/150\n",
      "39209/39209 [==============================] - 13s 341us/step - loss: 0.0121 - acc: 0.9974 - val_loss: 0.1672 - val_acc: 0.9728\n",
      "Epoch 61/150\n",
      "39209/39209 [==============================] - 13s 338us/step - loss: 0.0117 - acc: 0.9974 - val_loss: 0.1533 - val_acc: 0.9765\n",
      "Epoch 62/150\n",
      "39209/39209 [==============================] - 13s 336us/step - loss: 0.0136 - acc: 0.9971 - val_loss: 0.1853 - val_acc: 0.9747\n",
      "Epoch 63/150\n",
      "39209/39209 [==============================] - 13s 337us/step - loss: 0.0095 - acc: 0.9978 - val_loss: 0.1658 - val_acc: 0.9762\n",
      "Epoch 64/150\n",
      "39209/39209 [==============================] - 13s 337us/step - loss: 0.0125 - acc: 0.9973 - val_loss: 0.1915 - val_acc: 0.9750\n",
      "Epoch 65/150\n",
      "39209/39209 [==============================] - 13s 337us/step - loss: 0.0140 - acc: 0.9971 - val_loss: 0.1994 - val_acc: 0.9754\n",
      "Epoch 66/150\n",
      "39209/39209 [==============================] - 13s 339us/step - loss: 0.0121 - acc: 0.9973 - val_loss: 0.1803 - val_acc: 0.9777\n",
      "Epoch 67/150\n",
      "39209/39209 [==============================] - 13s 341us/step - loss: 0.0118 - acc: 0.9976 - val_loss: 0.1761 - val_acc: 0.9766\n",
      "Epoch 68/150\n",
      "39209/39209 [==============================] - 13s 340us/step - loss: 0.0077 - acc: 0.9981 - val_loss: 0.1324 - val_acc: 0.9804\n",
      "Epoch 69/150\n",
      "39209/39209 [==============================] - 13s 336us/step - loss: 0.0138 - acc: 0.9973 - val_loss: 0.2039 - val_acc: 0.9768\n",
      "Epoch 70/150\n",
      "39209/39209 [==============================] - 13s 335us/step - loss: 0.0071 - acc: 0.9984 - val_loss: 0.1842 - val_acc: 0.9773\n",
      "Epoch 71/150\n",
      "39209/39209 [==============================] - 13s 335us/step - loss: 0.0087 - acc: 0.9980 - val_loss: 0.1781 - val_acc: 0.9773\n",
      "Epoch 72/150\n",
      "39209/39209 [==============================] - 13s 334us/step - loss: 0.0134 - acc: 0.9977 - val_loss: 0.2112 - val_acc: 0.9686\n",
      "Epoch 73/150\n",
      "39209/39209 [==============================] - 13s 334us/step - loss: 0.0106 - acc: 0.9976 - val_loss: 0.1712 - val_acc: 0.9779\n",
      "Epoch 74/150\n",
      "39209/39209 [==============================] - 13s 335us/step - loss: 0.0117 - acc: 0.9975 - val_loss: 0.2175 - val_acc: 0.9737\n",
      "Epoch 75/150\n",
      "39209/39209 [==============================] - 13s 335us/step - loss: 0.0114 - acc: 0.9975 - val_loss: 0.1590 - val_acc: 0.9781\n",
      "Epoch 76/150\n",
      "39209/39209 [==============================] - 13s 335us/step - loss: 0.0127 - acc: 0.9977 - val_loss: 0.1802 - val_acc: 0.9770\n",
      "Epoch 77/150\n",
      "39209/39209 [==============================] - 13s 335us/step - loss: 0.0121 - acc: 0.9974 - val_loss: 0.1553 - val_acc: 0.9793\n",
      "Epoch 78/150\n",
      "39209/39209 [==============================] - 13s 338us/step - loss: 0.0088 - acc: 0.9981 - val_loss: 0.1678 - val_acc: 0.9774\n",
      "Epoch 79/150\n",
      "39209/39209 [==============================] - 13s 339us/step - loss: 0.0103 - acc: 0.9979 - val_loss: 0.1751 - val_acc: 0.9769\n",
      "Epoch 80/150\n",
      "39209/39209 [==============================] - 13s 344us/step - loss: 0.0099 - acc: 0.9981 - val_loss: 0.1982 - val_acc: 0.9754\n",
      "Epoch 81/150\n",
      "39209/39209 [==============================] - 13s 339us/step - loss: 0.0104 - acc: 0.9979 - val_loss: 0.1526 - val_acc: 0.9805\n",
      "Epoch 82/150\n",
      "39209/39209 [==============================] - 13s 337us/step - loss: 0.0084 - acc: 0.9982 - val_loss: 0.1774 - val_acc: 0.9755\n",
      "Epoch 83/150\n",
      "39209/39209 [==============================] - 13s 340us/step - loss: 0.0121 - acc: 0.9978 - val_loss: 0.1409 - val_acc: 0.9794\n",
      "Epoch 84/150\n",
      "39209/39209 [==============================] - 13s 337us/step - loss: 0.0098 - acc: 0.9979 - val_loss: 0.1798 - val_acc: 0.9743\n",
      "Epoch 85/150\n",
      "39209/39209 [==============================] - 13s 342us/step - loss: 0.0107 - acc: 0.9979 - val_loss: 0.1503 - val_acc: 0.9807\n",
      "Epoch 86/150\n",
      "39209/39209 [==============================] - 13s 344us/step - loss: 0.0074 - acc: 0.9983 - val_loss: 0.1831 - val_acc: 0.9765\n",
      "Epoch 87/150\n",
      "39209/39209 [==============================] - 13s 337us/step - loss: 0.0111 - acc: 0.9980 - val_loss: 0.1830 - val_acc: 0.9778\n",
      "Epoch 88/150\n",
      "39209/39209 [==============================] - 13s 335us/step - loss: 0.0127 - acc: 0.9977 - val_loss: 0.2044 - val_acc: 0.9740\n",
      "Epoch 89/150\n",
      "39209/39209 [==============================] - 13s 335us/step - loss: 0.0105 - acc: 0.9977 - val_loss: 0.1781 - val_acc: 0.9785\n",
      "Epoch 90/150\n",
      "39209/39209 [==============================] - 13s 338us/step - loss: 0.0115 - acc: 0.9981 - val_loss: 0.1719 - val_acc: 0.9798\n",
      "Epoch 91/150\n",
      "39209/39209 [==============================] - 13s 342us/step - loss: 0.0123 - acc: 0.9977 - val_loss: 0.2171 - val_acc: 0.9712\n",
      "Epoch 92/150\n",
      "39209/39209 [==============================] - 13s 338us/step - loss: 0.0132 - acc: 0.9977 - val_loss: 0.1746 - val_acc: 0.9780\n",
      "Epoch 93/150\n",
      "39209/39209 [==============================] - 13s 335us/step - loss: 0.0082 - acc: 0.9979 - val_loss: 0.2005 - val_acc: 0.9747\n",
      "Epoch 94/150\n",
      "39209/39209 [==============================] - 13s 335us/step - loss: 0.0122 - acc: 0.9979 - val_loss: 0.2112 - val_acc: 0.9743\n",
      "Epoch 95/150\n",
      "39209/39209 [==============================] - 13s 338us/step - loss: 0.0098 - acc: 0.9981 - val_loss: 0.1720 - val_acc: 0.9782\n",
      "Epoch 96/150\n",
      "39209/39209 [==============================] - 13s 342us/step - loss: 0.0130 - acc: 0.9973 - val_loss: 0.1652 - val_acc: 0.9799\n",
      "Epoch 97/150\n",
      "39209/39209 [==============================] - 13s 339us/step - loss: 0.0063 - acc: 0.9983 - val_loss: 0.1732 - val_acc: 0.9771\n",
      "Epoch 98/150\n",
      "39209/39209 [==============================] - 13s 336us/step - loss: 0.0076 - acc: 0.9983 - val_loss: 0.2065 - val_acc: 0.9766\n",
      "Epoch 99/150\n",
      "39209/39209 [==============================] - 13s 339us/step - loss: 0.0072 - acc: 0.9984 - val_loss: 0.2212 - val_acc: 0.9749\n",
      "Epoch 100/150\n",
      "39209/39209 [==============================] - 13s 337us/step - loss: 0.0096 - acc: 0.9983 - val_loss: 0.1917 - val_acc: 0.9783\n",
      "Epoch 101/150\n",
      "39209/39209 [==============================] - 13s 339us/step - loss: 0.0103 - acc: 0.9979 - val_loss: 0.1969 - val_acc: 0.9776\n",
      "Epoch 102/150\n",
      "39209/39209 [==============================] - 13s 343us/step - loss: 0.0124 - acc: 0.9980 - val_loss: 0.2008 - val_acc: 0.9773\n",
      "Epoch 103/150\n",
      "39209/39209 [==============================] - 13s 340us/step - loss: 0.0080 - acc: 0.9985 - val_loss: 0.2180 - val_acc: 0.9767\n",
      "Epoch 104/150\n",
      "39209/39209 [==============================] - 13s 338us/step - loss: 0.0082 - acc: 0.9983 - val_loss: 0.2129 - val_acc: 0.9759\n",
      "Epoch 105/150\n",
      "39209/39209 [==============================] - 13s 335us/step - loss: 0.0094 - acc: 0.9982 - val_loss: 0.2212 - val_acc: 0.9755\n",
      "Epoch 106/150\n",
      "39209/39209 [==============================] - 13s 340us/step - loss: 0.0080 - acc: 0.9984 - val_loss: 0.2569 - val_acc: 0.9726\n",
      "Epoch 107/150\n",
      "39209/39209 [==============================] - 13s 342us/step - loss: 0.0085 - acc: 0.9981 - val_loss: 0.2535 - val_acc: 0.9697\n",
      "Epoch 108/150\n",
      "39209/39209 [==============================] - 13s 339us/step - loss: 0.0078 - acc: 0.9982 - val_loss: 0.1989 - val_acc: 0.9785\n",
      "Epoch 109/150\n",
      "39209/39209 [==============================] - 13s 338us/step - loss: 0.0090 - acc: 0.9986 - val_loss: 0.2224 - val_acc: 0.9746\n",
      "Epoch 110/150\n",
      "39209/39209 [==============================] - 13s 339us/step - loss: 0.0063 - acc: 0.9985 - val_loss: 0.2200 - val_acc: 0.9740\n",
      "Epoch 111/150\n",
      "39209/39209 [==============================] - 13s 340us/step - loss: 0.0091 - acc: 0.9981 - val_loss: 0.1889 - val_acc: 0.9804\n",
      "Epoch 112/150\n",
      "39209/39209 [==============================] - 13s 343us/step - loss: 0.0118 - acc: 0.9979 - val_loss: 0.1901 - val_acc: 0.9793\n",
      "Epoch 113/150\n",
      "39209/39209 [==============================] - 13s 340us/step - loss: 0.0085 - acc: 0.9983 - val_loss: 0.2180 - val_acc: 0.9731\n",
      "Epoch 114/150\n",
      "39209/39209 [==============================] - 13s 342us/step - loss: 0.0079 - acc: 0.9981 - val_loss: 0.1932 - val_acc: 0.9787\n",
      "Epoch 115/150\n",
      "39209/39209 [==============================] - 14s 345us/step - loss: 0.0075 - acc: 0.9987 - val_loss: 0.1816 - val_acc: 0.9795\n",
      "Epoch 116/150\n",
      "39209/39209 [==============================] - 13s 342us/step - loss: 0.0082 - acc: 0.9984 - val_loss: 0.2030 - val_acc: 0.9772\n"
     ]
    },
    {
     "name": "stdout",
     "output_type": "stream",
     "text": [
      "Epoch 117/150\n",
      "39209/39209 [==============================] - 13s 340us/step - loss: 0.0085 - acc: 0.9985 - val_loss: 0.1979 - val_acc: 0.9781\n",
      "Epoch 118/150\n",
      "39209/39209 [==============================] - 13s 335us/step - loss: 0.0076 - acc: 0.9985 - val_loss: 0.2357 - val_acc: 0.9757\n",
      "Epoch 119/150\n",
      "39209/39209 [==============================] - 13s 336us/step - loss: 0.0087 - acc: 0.9985 - val_loss: 0.2115 - val_acc: 0.9784\n",
      "Epoch 120/150\n",
      "39209/39209 [==============================] - 13s 336us/step - loss: 0.0047 - acc: 0.9990 - val_loss: 0.1665 - val_acc: 0.9792\n",
      "Epoch 121/150\n",
      "39209/39209 [==============================] - 13s 336us/step - loss: 0.0086 - acc: 0.9981 - val_loss: 0.1916 - val_acc: 0.9756\n",
      "Epoch 122/150\n",
      "39209/39209 [==============================] - 13s 334us/step - loss: 0.0089 - acc: 0.9984 - val_loss: 0.1836 - val_acc: 0.9787\n",
      "Epoch 123/150\n",
      "39209/39209 [==============================] - 13s 334us/step - loss: 0.0086 - acc: 0.9984 - val_loss: 0.2018 - val_acc: 0.9766\n",
      "Epoch 124/150\n",
      "39209/39209 [==============================] - 13s 335us/step - loss: 0.0065 - acc: 0.9987 - val_loss: 0.2287 - val_acc: 0.9742\n",
      "Epoch 125/150\n",
      "39209/39209 [==============================] - 13s 335us/step - loss: 0.0082 - acc: 0.9982 - val_loss: 0.1875 - val_acc: 0.9778\n",
      "Epoch 126/150\n",
      "39209/39209 [==============================] - 13s 335us/step - loss: 0.0059 - acc: 0.9987 - val_loss: 0.1765 - val_acc: 0.9789\n",
      "Epoch 127/150\n",
      "39209/39209 [==============================] - 13s 334us/step - loss: 0.0064 - acc: 0.9988 - val_loss: 0.1990 - val_acc: 0.9782\n",
      "Epoch 128/150\n",
      "39209/39209 [==============================] - 13s 337us/step - loss: 0.0078 - acc: 0.9983 - val_loss: 0.2784 - val_acc: 0.9731\n",
      "Epoch 129/150\n",
      "39209/39209 [==============================] - 13s 342us/step - loss: 0.0086 - acc: 0.9983 - val_loss: 0.2238 - val_acc: 0.9765\n",
      "Epoch 130/150\n",
      "39209/39209 [==============================] - 14s 347us/step - loss: 0.0068 - acc: 0.9987 - val_loss: 0.2115 - val_acc: 0.9763\n",
      "Epoch 131/150\n",
      "39209/39209 [==============================] - 13s 341us/step - loss: 0.0131 - acc: 0.9981 - val_loss: 0.2331 - val_acc: 0.9771\n",
      "Epoch 132/150\n",
      "39209/39209 [==============================] - 13s 343us/step - loss: 0.0092 - acc: 0.9983 - val_loss: 0.2034 - val_acc: 0.9784\n",
      "Epoch 133/150\n",
      "39209/39209 [==============================] - 14s 347us/step - loss: 0.0056 - acc: 0.9988 - val_loss: 0.2168 - val_acc: 0.9765\n",
      "Epoch 134/150\n",
      "39209/39209 [==============================] - 13s 342us/step - loss: 0.0080 - acc: 0.9985 - val_loss: 0.2514 - val_acc: 0.9751\n",
      "Epoch 135/150\n",
      "39209/39209 [==============================] - 13s 335us/step - loss: 0.0049 - acc: 0.9990 - val_loss: 0.2374 - val_acc: 0.9762\n",
      "Epoch 136/150\n",
      "39209/39209 [==============================] - 13s 335us/step - loss: 0.0076 - acc: 0.9986 - val_loss: 0.2669 - val_acc: 0.9721\n",
      "Epoch 137/150\n",
      "39209/39209 [==============================] - 13s 335us/step - loss: 0.0068 - acc: 0.9988 - val_loss: 0.2095 - val_acc: 0.9781\n",
      "Epoch 138/150\n",
      "39209/39209 [==============================] - 13s 335us/step - loss: 0.0061 - acc: 0.9987 - val_loss: 0.2271 - val_acc: 0.9764\n",
      "Epoch 139/150\n",
      "39209/39209 [==============================] - 13s 335us/step - loss: 0.0052 - acc: 0.9988 - val_loss: 0.2153 - val_acc: 0.9770\n",
      "Epoch 140/150\n",
      "39209/39209 [==============================] - 13s 335us/step - loss: 0.0083 - acc: 0.9986 - val_loss: 0.1913 - val_acc: 0.9789\n",
      "Epoch 141/150\n",
      "39209/39209 [==============================] - 13s 339us/step - loss: 0.0063 - acc: 0.9988 - val_loss: 0.1999 - val_acc: 0.9786\n",
      "Epoch 142/150\n",
      "39209/39209 [==============================] - 13s 339us/step - loss: 0.0087 - acc: 0.9982 - val_loss: 0.2146 - val_acc: 0.9782\n",
      "Epoch 143/150\n",
      "39209/39209 [==============================] - 13s 338us/step - loss: 0.0080 - acc: 0.9985 - val_loss: 0.2065 - val_acc: 0.9783\n",
      "Epoch 144/150\n",
      "39209/39209 [==============================] - 13s 342us/step - loss: 0.0083 - acc: 0.9982 - val_loss: 0.1940 - val_acc: 0.9794\n",
      "Epoch 145/150\n",
      "39209/39209 [==============================] - 13s 342us/step - loss: 0.0062 - acc: 0.9988 - val_loss: 0.1961 - val_acc: 0.9790\n",
      "Epoch 146/150\n",
      "39209/39209 [==============================] - 13s 341us/step - loss: 0.0075 - acc: 0.9987 - val_loss: 0.2104 - val_acc: 0.9788\n",
      "Epoch 147/150\n",
      "39209/39209 [==============================] - 13s 343us/step - loss: 0.0066 - acc: 0.9985 - val_loss: 0.2193 - val_acc: 0.9774\n",
      "Epoch 148/150\n",
      "39209/39209 [==============================] - 13s 341us/step - loss: 0.0075 - acc: 0.9986 - val_loss: 0.2256 - val_acc: 0.9752\n",
      "Epoch 149/150\n",
      "39209/39209 [==============================] - 13s 339us/step - loss: 0.0065 - acc: 0.9987 - val_loss: 0.2163 - val_acc: 0.9781\n",
      "Epoch 150/150\n",
      "39209/39209 [==============================] - 13s 340us/step - loss: 0.0075 - acc: 0.9987 - val_loss: 0.2062 - val_acc: 0.9793\n"
     ]
    }
   ],
   "source": [
    "\n",
    "\n",
    "model.compile(loss='categorical_crossentropy', optimizer='adadelta', metrics=['accuracy']) \n",
    "\n",
    "epoch=150\n",
    "history=model.fit(X_train, Y, validation_data=(X_test, Y_test),epochs=epoch, batch_size=128, shuffle=True, verbose=1)\n"
   ]
  },
  {
   "cell_type": "code",
   "execution_count": 18,
   "metadata": {
    "colab": {
     "base_uri": "https://localhost:8080/",
     "height": 34
    },
    "colab_type": "code",
    "id": "Vf6DjZr8VMTo",
    "outputId": "1b3f995e-79d5-4c33-b0b2-08d0eb641d8f"
   },
   "outputs": [
    {
     "name": "stdout",
     "output_type": "stream",
     "text": [
      "Total time to run 1994.857094526291 seconds\n"
     ]
    }
   ],
   "source": [
    "print(\"Total time to run %s seconds\" % (time.time() - start_time))\n"
   ]
  },
  {
   "cell_type": "code",
   "execution_count": 19,
   "metadata": {
    "colab": {
     "base_uri": "https://localhost:8080/",
     "height": 51
    },
    "colab_type": "code",
    "id": "EboRXxRJYMgN",
    "outputId": "e3d17a9e-b1af-4a9c-e1fb-84fd480cd91c"
   },
   "outputs": [
    {
     "name": "stdout",
     "output_type": "stream",
     "text": [
      "final learning rate 1.0\n",
      "test accuracy average for 10 epochs is : 0.9782422802057515\n"
     ]
    }
   ],
   "source": [
    "\n",
    "print('final learning rate',keras.backend.eval(model.optimizer.lr))\n",
    "\n",
    "v=history.history['val_acc']\n",
    "test_accuracy=v[-10 :]\n",
    "print('test accuracy average for 10 epochs is :', sum(test_accuracy) / len(test_accuracy))\n"
   ]
  },
  {
   "cell_type": "code",
   "execution_count": null,
   "metadata": {
    "colab": {},
    "colab_type": "code",
    "id": "XktfS3Aq4wmz"
   },
   "outputs": [],
   "source": []
  },
  {
   "cell_type": "code",
   "execution_count": 20,
   "metadata": {
    "colab": {
     "base_uri": "https://localhost:8080/",
     "height": 735
    },
    "colab_type": "code",
    "id": "7A6JU8NV-386",
    "outputId": "0f38d54b-4863-4440-fcb6-cb8e356493b8"
   },
   "outputs": [
    {
     "data": {
      "image/png": "[encoded data removed]",
      "text/plain": [
       "<Figure size 432x288 with 1 Axes>"
      ]
     },
     "metadata": {
      "needs_background": "light"
     },
     "output_type": "display_data"
    },
    {
     "data": {
      "image/png": "[encoded data removed]",
      "text/plain": [
       "<Figure size 432x288 with 1 Axes>"
      ]
     },
     "metadata": {
      "needs_background": "light"
     },
     "output_type": "display_data"
    }
   ],
   "source": [
    "# Plot training & validation accuracy values\n",
    "plt.plot(history.history['acc'])\n",
    "plt.plot(history.history['val_acc'])\n",
    "plt.title('Model accuracy')\n",
    "plt.ylabel('Accuracy')\n",
    "plt.xlabel('Epochs')\n",
    "plt.legend(['Train', 'Test'], loc='upper left')\n",
    "plt.show()\n",
    "\n",
    "# Plot training & validation loss values\n",
    "plt.plot(history.history['loss'])\n",
    "plt.plot(history.history['val_loss'])\n",
    "plt.title('Model loss')\n",
    "plt.ylabel('Loss')\n",
    "plt.xlabel('Epochs')\n",
    "plt.legend(['Train', 'Test'], loc='upper left')\n",
    "plt.show()"
   ]
  },
  {
   "cell_type": "code",
   "execution_count": 21,
   "metadata": {
    "colab": {},
    "colab_type": "code",
    "id": "NTWGOqEDsYnL"
   },
   "outputs": [],
   "source": [
    "# y_prob = model.predict(tnpimages)\n",
    "# y_prob[1]"
   ]
  },
  {
   "cell_type": "code",
   "execution_count": 22,
   "metadata": {
    "colab": {
     "base_uri": "https://localhost:8080/",
     "height": 34
    },
    "colab_type": "code",
    "id": "K5qTEpIV8SNU",
    "outputId": "5381c3d8-71d2-427b-fd3c-985ad17f5359"
   },
   "outputs": [
    {
     "data": {
      "text/plain": [
       "12"
      ]
     },
     "execution_count": 22,
     "metadata": {},
     "output_type": "execute_result"
    }
   ],
   "source": [
    "ypred=model.predict_classes(tnpimages)\n",
    "tnplabels[10]"
   ]
  },
  {
   "cell_type": "code",
   "execution_count": 23,
   "metadata": {
    "colab": {
     "base_uri": "https://localhost:8080/",
     "height": 136
    },
    "colab_type": "code",
    "id": "9p5sUq1E-823",
    "outputId": "4e249290-c077-45dc-9f67-43bc75911205"
   },
   "outputs": [
    {
     "name": "stdout",
     "output_type": "stream",
     "text": [
      "[[ 60   0   0 ...   0   0   0]\n",
      " [  0 716   2 ...   0   0   0]\n",
      " [  0   1 749 ...   0   0   0]\n",
      " ...\n",
      " [  0   0   0 ...  81   0   0]\n",
      " [  0   0   0 ...   0  60   0]\n",
      " [  0   0   0 ...   0   0  89]]\n"
     ]
    }
   ],
   "source": [
    "from sklearn.metrics import confusion_matrix\n",
    "\n",
    "cm=confusion_matrix(tnplabels, ypred)\n",
    "print(cm)"
   ]
  },
  {
   "cell_type": "code",
   "execution_count": 24,
   "metadata": {
    "colab": {
     "base_uri": "https://localhost:8080/",
     "height": 867
    },
    "colab_type": "code",
    "id": "5XKUY8qnFlCe",
    "outputId": "a0d4b41b-3a23-4023-c343-a32823452a1b"
   },
   "outputs": [
    {
     "name": "stdout",
     "output_type": "stream",
     "text": [
      "              precision    recall  f1-score   support\n",
      "\n",
      "           0       1.00      1.00      1.00        60\n",
      "           1       0.99      0.99      0.99       720\n",
      "           2       0.98      1.00      0.99       750\n",
      "           3       1.00      0.98      0.99       450\n",
      "           4       0.99      0.99      0.99       660\n",
      "           5       0.97      0.98      0.97       630\n",
      "           6       0.97      0.86      0.91       150\n",
      "           7       1.00      0.99      0.99       450\n",
      "           8       0.98      0.99      0.99       450\n",
      "           9       1.00      1.00      1.00       480\n",
      "          10       0.99      1.00      0.99       660\n",
      "          11       0.98      1.00      0.99       420\n",
      "          12       0.94      0.99      0.97       690\n",
      "          13       1.00      0.99      1.00       720\n",
      "          14       1.00      1.00      1.00       270\n",
      "          15       0.92      1.00      0.96       210\n",
      "          16       1.00      1.00      1.00       150\n",
      "          17       1.00      0.99      0.99       360\n",
      "          18       0.99      0.95      0.97       390\n",
      "          19       0.98      1.00      0.99        60\n",
      "          20       0.97      1.00      0.98        90\n",
      "          21       0.79      0.67      0.72        90\n",
      "          22       0.99      0.97      0.98       120\n",
      "          23       0.96      1.00      0.98       150\n",
      "          24       0.99      0.99      0.99        90\n",
      "          25       0.96      0.98      0.97       480\n",
      "          26       0.92      0.92      0.92       180\n",
      "          27       1.00      0.50      0.67        60\n",
      "          28       0.99      1.00      1.00       150\n",
      "          29       1.00      1.00      1.00        90\n",
      "          30       0.95      0.83      0.88       150\n",
      "          31       0.97      1.00      0.99       270\n",
      "          32       1.00      1.00      1.00        60\n",
      "          33       1.00      1.00      1.00       210\n",
      "          34       0.99      1.00      1.00       120\n",
      "          35       0.99      0.98      0.99       390\n",
      "          36       0.94      1.00      0.97       120\n",
      "          37       1.00      1.00      1.00        60\n",
      "          38       0.99      0.96      0.97       690\n",
      "          39       1.00      0.99      0.99        90\n",
      "          40       0.84      0.90      0.87        90\n",
      "          41       1.00      1.00      1.00        60\n",
      "          42       0.96      0.99      0.97        90\n",
      "\n",
      "   micro avg       0.98      0.98      0.98     12630\n",
      "   macro avg       0.97      0.96      0.97     12630\n",
      "weighted avg       0.98      0.98      0.98     12630\n",
      "\n"
     ]
    }
   ],
   "source": [
    "from sklearn.metrics import classification_report\n",
    "print(classification_report(tnplabels, ypred))\n"
   ]
  },
  {
   "cell_type": "code",
   "execution_count": 25,
   "metadata": {
    "colab": {
     "base_uri": "https://localhost:8080/",
     "height": 1034
    },
    "colab_type": "code",
    "id": "0DpczdLpAFSa",
    "outputId": "117fced6-f9d5-4fcb-9811-3c503a6063d3"
   },
   "outputs": [
    {
     "data": {
      "text/plain": [
       "<matplotlib.axes._subplots.AxesSubplot at 0x1f699562d30>"
      ]
     },
     "execution_count": 25,
     "metadata": {},
     "output_type": "execute_result"
    },
    {
     "data": {
      "image/png": "[encoded data removed]",
      "text/plain": [
       "<Figure size 1440x1280 with 2 Axes>"
      ]
     },
     "metadata": {},
     "output_type": "display_data"
    }
   ],
   "source": [
    "import seaborn as sns\n",
    "fig=plt.figure(figsize=(18, 16), dpi= 80, facecolor='w', edgecolor='k')\n",
    "\n",
    "\n",
    "sns.heatmap(confusion_matrix(tnplabels, ypred),annot=True,fmt=\"d\") \n"
   ]
  },
  {
   "cell_type": "code",
   "execution_count": 26,
   "metadata": {
    "colab": {},
    "colab_type": "code",
    "id": "ouPtpjL9yfRS"
   },
   "outputs": [],
   "source": [
    "data1=tnpimages\n"
   ]
  },
  {
   "cell_type": "code",
   "execution_count": 27,
   "metadata": {
    "colab": {
     "base_uri": "https://localhost:8080/",
     "height": 704
    },
    "colab_type": "code",
    "id": "HSlNI8lv-381",
    "outputId": "57c457a2-82c0-418f-8237-92b50e6e9ff9"
   },
   "outputs": [
    {
     "name": "stdout",
     "output_type": "stream",
     "text": [
      "97.92557402253624\n",
      "81.03721299817047\n",
      "70.45130640763851\n",
      "63.79255742282973\n",
      "58.00475059099265\n",
      "53.087885997074515\n",
      "49.770387962802666\n",
      "46.904196364485074\n",
      "43.94299288307592\n",
      "41.195566115262295\n",
      "39.23990499473052\n",
      "36.97545527326429\n",
      "35.415676958676094\n",
      "33.73713380131378\n",
      "32.779097383869896\n",
      "31.20348377069215\n",
      "30.007917660857043\n",
      "29.231987328446294\n",
      "27.6959620032722\n",
      "26.342042756052315\n"
     ]
    },
    {
     "data": {
      "text/plain": [
       "[<matplotlib.lines.Line2D at 0x1f69cfa2358>]"
      ]
     },
     "execution_count": 27,
     "metadata": {},
     "output_type": "execute_result"
    },
    {
     "data": {
      "image/png": "[encoded data removed]",
      "text/plain": [
       "<Figure size 432x288 with 1 Axes>"
      ]
     },
     "metadata": {
      "needs_background": "light"
     },
     "output_type": "display_data"
    }
   ],
   "source": [
    "## gaussian noise evaluation\n",
    "\n",
    "from skimage.util import random_noise\n",
    "from skimage import transform\n",
    "import matplotlib.pyplot as plt\n",
    "\n",
    "import numpy as np\n",
    "vara=np.linspace(0, 0.1, 20)\n",
    "i=0\n",
    "b=np.zeros((len(vara),1))\n",
    "for a in vara:\n",
    "\n",
    "  gaussian_noise_imgs = [random_noise(image, mode='gaussian',mean=0,var=a,seed=None, clip=True) for image in data1]\n",
    "  gaussian_noise_imgs=np.array(gaussian_noise_imgs)\n",
    "  \n",
    "  gaussian_noise_imgs=gaussian_noise_imgs.astype('float32')\n",
    "  score = model.evaluate(gaussian_noise_imgs, Y_test, batch_size=128, verbose=0)\n",
    "  b[i]=score[1]*100\n",
    "  i+=1\n",
    "\n",
    "  print(score[1]*100)\n",
    "  \n",
    " \n",
    "fig, ax = plt.subplots()\n",
    "ax.plot(vara, b)\n",
    "\n",
    "  \n",
    " "
   ]
  },
  {
   "cell_type": "code",
   "execution_count": 28,
   "metadata": {
    "colab": {},
    "colab_type": "code",
    "id": "bzuOcoP5-emX"
   },
   "outputs": [],
   "source": [
    "\n",
    "data2=tnpimages"
   ]
  },
  {
   "cell_type": "code",
   "execution_count": 29,
   "metadata": {
    "colab": {
     "base_uri": "https://localhost:8080/",
     "height": 561
    },
    "colab_type": "code",
    "id": "0g2VPZ_vkgJN",
    "outputId": "e03bc131-7129-4008-ac31-cec016b4a4b8"
   },
   "outputs": [
    {
     "name": "stdout",
     "output_type": "stream",
     "text": [
      "Accuracy is: 0.9245447348623359 for sd 10\n",
      "Accuracy is: 0.9241488520436502 for sd 10\n",
      "Accuracy is: 0.9258115598443757 for sd 10\n",
      " accuracy average is : 0.9248350489167873\n",
      "Accuracy is: 0.7920031672324439 for sd 20\n",
      "Accuracy is: 0.794220110648979 for sd 20\n",
      "Accuracy is: 0.7889152810956784 for sd 20\n",
      " accuracy average is : 0.791712852992367\n",
      "Accuracy is: 0.6602533651644147 for sd 30\n",
      "Accuracy is: 0.6585906572504262 for sd 30\n",
      "Accuracy is: 0.6600950120746948 for sd 30\n",
      " accuracy average is : 0.6596463448298452\n",
      "Accuracy is: 0.5515439430683827 for sd 40\n",
      "Accuracy is: 0.5517814728351028 for sd 40\n",
      "Accuracy is: 0.551939825669981 for sd 40\n",
      " accuracy average is : 0.5517550805244889\n",
      "Accuracy is: 0.46049089478483674 for sd 50\n",
      "Accuracy is: 0.4553444180522565 for sd 50\n",
      "Accuracy is: 0.4577197148652654 for sd 50\n",
      " accuracy average is : 0.45785167590078624\n",
      "Accuracy is: 0.9617577196017014 for sd 6.3\n",
      "Accuracy is: 0.9625494852013184 for sd 6.3\n",
      "Accuracy is: 0.9622327789841242 for sd 6.3\n",
      " accuracy average is : 0.9621799945957147\n",
      "Accuracy is: 0.8924782264355338 for sd 12.75\n",
      "Accuracy is: 0.8870942200636542 for sd 12.75\n",
      "Accuracy is: 0.8892319872845569 for sd 12.75\n",
      " accuracy average is : 0.8896014779279149\n",
      "Accuracy is: 0.8021377673907971 for sd 19.21\n",
      "Accuracy is: 0.8019794142255685 for sd 19.21\n",
      "Accuracy is: 0.7979414094749747 for sd 19.21\n",
      " accuracy average is : 0.8006861970304467\n"
     ]
    }
   ],
   "source": [
    "\n",
    "sd1=[10, 10,10]\n",
    "sd2=[20, 20,20]\n",
    "sd3=[30, 30,30]\n",
    "sd4=[40, 40,40]\n",
    "sd5=[50, 50,50]\n",
    "sd6=[6.3, 6.3, 6.3]\n",
    "sd7=[12.75, 12.75, 12.75]\n",
    "sd8=[19.21, 19.21, 19.21]\n",
    "sdrange=[sd1,sd2,sd3,sd4,sd5,sd6,sd7,sd8]\n",
    "\n",
    "\n",
    "nprn=np.zeros(3)\n",
    "\n",
    "for sd in sdrange:\n",
    "  i=0\n",
    "  for values in sd:\n",
    "      nsd=values/255\n",
    "      varsd=nsd*nsd\n",
    "      gaussian_noise_imgs = [random_noise(image, mode='gaussian',mean=0,var=varsd,seed=None, clip=True) for image in data2]\n",
    "      gaussian_noise_imgs=np.array(gaussian_noise_imgs)\n",
    "      \n",
    "      gaussian_noise_imgs=gaussian_noise_imgs.astype('float32')\n",
    "      score = model.evaluate(gaussian_noise_imgs, Y_test, batch_size=128, verbose=0)\n",
    "      print('Accuracy is:', score[1], 'for sd', values)  \n",
    "      nprn[i]=score[1]\n",
    "      i+=1\n",
    "\n",
    "      \n",
    "\n",
    "  avgsd=nprn\n",
    "  print(' accuracy average is :', sum(avgsd) / len(avgsd))\n"
   ]
  },
  {
   "cell_type": "code",
   "execution_count": 30,
   "metadata": {
    "colab": {
     "base_uri": "https://localhost:8080/",
     "height": 304
    },
    "colab_type": "code",
    "id": "BP8qUSshCNh1",
    "outputId": "569bf4ce-44ed-4228-e87c-57db125d370d"
   },
   "outputs": [
    {
     "name": "stdout",
     "output_type": "stream",
     "text": [
      "psnr of original image and true image : 14.194159082534147\n",
      "float64\n",
      "float64\n"
     ]
    },
    {
     "data": {
      "image/png": "[encoded data removed]",
      "text/plain": [
       "<Figure size 432x288 with 2 Axes>"
      ]
     },
     "metadata": {
      "needs_background": "light"
     },
     "output_type": "display_data"
    }
   ],
   "source": [
    "  #psnr calculatioon\n",
    "  \n",
    "  import skimage\n",
    "  import numpy as np\n",
    "  from skimage import img_as_float\n",
    "  b=1\n",
    "  \n",
    "  a = random_noise(tnpimages[b], mode='gaussian',mean=0,var=0.05,seed=None, clip=True) \n",
    "  plt.subplot(1, 2,1)\n",
    "  plt.imshow(a)\n",
    "  plt.subplot(1, 2,2)\n",
    "  c=tnpimages[b]\n",
    "  plt.imshow(c)\n",
    "  imtrue=img_as_float\t(c)\n",
    "  imtest=a\n",
    "  print('psnr of original image and true image :',skimage.measure.compare_psnr(imtrue, imtest, data_range=None))\n",
    "  \n",
    "  print(imtrue.dtype)\n",
    "  print(imtest.dtype)"
   ]
  },
  {
   "cell_type": "code",
   "execution_count": 31,
   "metadata": {
    "colab": {},
    "colab_type": "code",
    "id": "EWo6Z0Q1-38I"
   },
   "outputs": [],
   "source": [
    "\n",
    "model.save('keras4_Cnn_adadelta_pooldrop.h5')"
   ]
  }
 ],
 "metadata": {
  "accelerator": "GPU",
  "colab": {
   "collapsed_sections": [],
   "name": "keras4_Cnn_adadelta_pooldrop",
   "provenance": [],
   "version": "0.3.2"
  },
  "kernelspec": {
   "display_name": "tfgpu",
   "language": "python",
   "name": "tfgpu"
  },
  "language_info": {
   "codemirror_mode": {
    "name": "ipython",
    "version": 3
   },
   "file_extension": ".py",
   "mimetype": "text/x-python",
   "name": "python",
   "nbconvert_exporter": "python",
   "pygments_lexer": "ipython3",
   "version": "3.6.8"
  }
 },
 "nbformat": 4,
 "nbformat_minor": 1
}
